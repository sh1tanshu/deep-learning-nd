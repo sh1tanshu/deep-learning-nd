{
 "cells": [
  {
   "cell_type": "markdown",
   "metadata": {
    "collapsed": true,
    "deletable": true,
    "editable": true
   },
   "source": [
    "# Image Classification\n",
    "In this project, you'll classify images from the [CIFAR-10 dataset](https://www.cs.toronto.edu/~kriz/cifar.html).  The dataset consists of airplanes, dogs, cats, and other objects. You'll preprocess the images, then train a convolutional neural network on all the samples. The images need to be normalized and the labels need to be one-hot encoded.  You'll get to apply what you learned and build a convolutional, max pooling, dropout, and fully connected layers.  At the end, you'll get to see your neural network's predictions on the sample images.\n",
    "## Get the Data\n",
    "Run the following cell to download the [CIFAR-10 dataset for python](https://www.cs.toronto.edu/~kriz/cifar-10-python.tar.gz)."
   ]
  },
  {
   "cell_type": "code",
   "execution_count": 1,
   "metadata": {
    "collapsed": false,
    "deletable": true,
    "editable": true
   },
   "outputs": [
    {
     "name": "stderr",
     "output_type": "stream",
     "text": [
      "CIFAR-10 Dataset: 171MB [00:44, 3.86MB/s]                               \n"
     ]
    },
    {
     "name": "stdout",
     "output_type": "stream",
     "text": [
      "All files found!\n"
     ]
    }
   ],
   "source": [
    "\"\"\"\n",
    "DON'T MODIFY ANYTHING IN THIS CELL THAT IS BELOW THIS LINE\n",
    "\"\"\"\n",
    "from urllib.request import urlretrieve\n",
    "from os.path import isfile, isdir\n",
    "from tqdm import tqdm\n",
    "import problem_unittests as tests\n",
    "import tarfile\n",
    "\n",
    "cifar10_dataset_folder_path = 'cifar-10-batches-py'\n",
    "\n",
    "class DLProgress(tqdm):\n",
    "    last_block = 0\n",
    "\n",
    "    def hook(self, block_num=1, block_size=1, total_size=None):\n",
    "        self.total = total_size\n",
    "        self.update((block_num - self.last_block) * block_size)\n",
    "        self.last_block = block_num\n",
    "\n",
    "if not isfile('cifar-10-python.tar.gz'):\n",
    "    with DLProgress(unit='B', unit_scale=True, miniters=1, desc='CIFAR-10 Dataset') as pbar:\n",
    "        urlretrieve(\n",
    "            'https://www.cs.toronto.edu/~kriz/cifar-10-python.tar.gz',\n",
    "            'cifar-10-python.tar.gz',\n",
    "            pbar.hook)\n",
    "\n",
    "if not isdir(cifar10_dataset_folder_path):\n",
    "    with tarfile.open('cifar-10-python.tar.gz') as tar:\n",
    "        tar.extractall()\n",
    "        tar.close()\n",
    "\n",
    "\n",
    "tests.test_folder_path(cifar10_dataset_folder_path)"
   ]
  },
  {
   "cell_type": "markdown",
   "metadata": {
    "deletable": true,
    "editable": true
   },
   "source": [
    "## Explore the Data\n",
    "The dataset is broken into batches to prevent your machine from running out of memory.  The CIFAR-10 dataset consists of 5 batches, named `data_batch_1`, `data_batch_2`, etc.. Each batch contains the labels and images that are one of the following:\n",
    "* airplane\n",
    "* automobile\n",
    "* bird\n",
    "* cat\n",
    "* deer\n",
    "* dog\n",
    "* frog\n",
    "* horse\n",
    "* ship\n",
    "* truck\n",
    "\n",
    "Understanding a dataset is part of making predictions on the data.  Play around with the code cell below by changing the `batch_id` and `sample_id`. The `batch_id` is the id for a batch (1-5). The `sample_id` is the id for a image and label pair in the batch.\n",
    "\n",
    "Ask yourself \"What are all possible labels?\", \"What is the range of values for the image data?\", \"Are the labels in order or random?\".  Answers to questions like these will help you preprocess the data and end up with better predictions."
   ]
  },
  {
   "cell_type": "code",
   "execution_count": 3,
   "metadata": {
    "collapsed": false,
    "deletable": true,
    "editable": true
   },
   "outputs": [
    {
     "name": "stdout",
     "output_type": "stream",
     "text": [
      "\n",
      "Stats of batch 1:\n",
      "Samples: 10000\n",
      "Label Counts: {0: 1005, 1: 974, 2: 1032, 3: 1016, 4: 999, 5: 937, 6: 1030, 7: 1001, 8: 1025, 9: 981}\n",
      "First 20 Labels: [6, 9, 9, 4, 1, 1, 2, 7, 8, 3, 4, 7, 7, 2, 9, 9, 9, 3, 2, 6]\n",
      "\n",
      "Example of Image 5:\n",
      "Image - Min Value: 0 Max Value: 252\n",
      "Image - Shape: (32, 32, 3)\n",
      "Label - Label Id: 1 Name: automobile\n"
     ]
    },
    {
     "data": {
      "image/png": "[encoded data removed]",
      "text/plain": [
       "<matplotlib.figure.Figure at 0x7ff0c8a63390>"
      ]
     },
     "metadata": {
      "image/png": {
       "height": 250,
       "width": 253
      }
     },
     "output_type": "display_data"
    }
   ],
   "source": [
    "%matplotlib inline\n",
    "%config InlineBackend.figure_format = 'retina'\n",
    "\n",
    "import helper\n",
    "import numpy as np\n",
    "\n",
    "# Explore the dataset\n",
    "batch_id = 1\n",
    "sample_id = 5\n",
    "helper.display_stats(cifar10_dataset_folder_path, batch_id, sample_id)"
   ]
  },
  {
   "cell_type": "markdown",
   "metadata": {
    "deletable": true,
    "editable": true
   },
   "source": [
    "## Implement Preprocess Functions\n",
    "### Normalize\n",
    "In the cell below, implement the `normalize` function to take in image data, `x`, and return it as a normalized Numpy array. The values should be in the range of 0 to 1, inclusive.  The return object should be the same shape as `x`."
   ]
  },
  {
   "cell_type": "code",
   "execution_count": 4,
   "metadata": {
    "collapsed": false,
    "deletable": true,
    "editable": true
   },
   "outputs": [
    {
     "name": "stdout",
     "output_type": "stream",
     "text": [
      "Tests Passed\n"
     ]
    }
   ],
   "source": [
    "def normalize(x):\n",
    "    \"\"\"\n",
    "    Normalize a list of sample image data in the range of 0 to 1\n",
    "    : x: List of image data.  The image shape is (32, 32, 3)\n",
    "    : return: Numpy array of normalize data\n",
    "    \"\"\"\n",
    "    # TODO: Implement Function\n",
    "    return x/255\n",
    "\n",
    "\n",
    "\"\"\"\n",
    "DON'T MODIFY ANYTHING IN THIS CELL THAT IS BELOW THIS LINE\n",
    "\"\"\"\n",
    "tests.test_normalize(normalize)"
   ]
  },
  {
   "cell_type": "markdown",
   "metadata": {
    "deletable": true,
    "editable": true
   },
   "source": [
    "### One-hot encode\n",
    "Just like the previous code cell, you'll be implementing a function for preprocessing.  This time, you'll implement the `one_hot_encode` function. The input, `x`, are a list of labels.  Implement the function to return the list of labels as One-Hot encoded Numpy array.  The possible values for labels are 0 to 9. The one-hot encoding function should return the same encoding for each value between each call to `one_hot_encode`.  Make sure to save the map of encodings outside the function.\n",
    "\n",
    "Hint: Don't reinvent the wheel."
   ]
  },
  {
   "cell_type": "code",
   "execution_count": 5,
   "metadata": {
    "collapsed": false,
    "deletable": true,
    "editable": true
   },
   "outputs": [
    {
     "name": "stdout",
     "output_type": "stream",
     "text": [
      "Tests Passed\n"
     ]
    }
   ],
   "source": [
    "def one_hot_encode(x):\n",
    "    \"\"\"\n",
    "    One hot encode a list of sample labels. Return a one-hot encoded vector for each label.\n",
    "    : x: List of sample Labels\n",
    "    : return: Numpy array of one-hot encoded labels\n",
    "    \"\"\"\n",
    "    # TODO: Implement Function\n",
    "    arr = []\n",
    "    for i in x:\n",
    "        a = []\n",
    "        for k in range(10):\n",
    "            a.append(1 if k==i else 0)\n",
    "        arr.append(a)\n",
    "    return np.array(arr)\n",
    "\n",
    "\n",
    "\"\"\"\n",
    "DON'T MODIFY ANYTHING IN THIS CELL THAT IS BELOW THIS LINE\n",
    "\"\"\"\n",
    "tests.test_one_hot_encode(one_hot_encode)"
   ]
  },
  {
   "cell_type": "markdown",
   "metadata": {
    "deletable": true,
    "editable": true
   },
   "source": [
    "### Randomize Data\n",
    "As you saw from exploring the data above, the order of the samples are randomized.  It doesn't hurt to randomize it again, but you don't need to for this dataset."
   ]
  },
  {
   "cell_type": "markdown",
   "metadata": {
    "deletable": true,
    "editable": true
   },
   "source": [
    "## Preprocess all the data and save it\n",
    "Running the code cell below will preprocess all the CIFAR-10 data and save it to file. The code below also uses 10% of the training data for validation."
   ]
  },
  {
   "cell_type": "code",
   "execution_count": 7,
   "metadata": {
    "collapsed": false,
    "deletable": true,
    "editable": true
   },
   "outputs": [
    {
     "name": "stdout",
     "output_type": "stream",
     "text": [
      "Done\n"
     ]
    }
   ],
   "source": [
    "\"\"\"\n",
    "DON'T MODIFY ANYTHING IN THIS CELL\n",
    "\"\"\"\n",
    "# Preprocess Training, Validation, and Testing Data\n",
    "helper.preprocess_and_save_data(cifar10_dataset_folder_path, normalize, one_hot_encode)\n",
    "print(\"Done\")"
   ]
  },
  {
   "cell_type": "markdown",
   "metadata": {
    "deletable": true,
    "editable": true
   },
   "source": [
    "# Check Point\n",
    "This is your first checkpoint.  If you ever decide to come back to this notebook or have to restart the notebook, you can start from here.  The preprocessed data has been saved to disk."
   ]
  },
  {
   "cell_type": "code",
   "execution_count": 4,
   "metadata": {
    "collapsed": true,
    "deletable": true,
    "editable": true
   },
   "outputs": [],
   "source": [
    "\"\"\"\n",
    "DON'T MODIFY ANYTHING IN THIS CELL\n",
    "\"\"\"\n",
    "import pickle\n",
    "import problem_unittests as tests\n",
    "import helper\n",
    "\n",
    "# Load the Preprocessed Validation data\n",
    "valid_features, valid_labels = pickle.load(open('preprocess_validation.p', mode='rb'))"
   ]
  },
  {
   "cell_type": "markdown",
   "metadata": {
    "deletable": true,
    "editable": true
   },
   "source": [
    "## Build the network\n",
    "For the neural network, you'll build each layer into a function.  Most of the code you've seen has been outside of functions. To test your code more thoroughly, we require that you put each layer in a function.  This allows us to give you better feedback and test for simple mistakes using our unittests before you submit your project.\n",
    "\n",
    ">**Note:** If you're finding it hard to dedicate enough time for this course each week, we've provided a small shortcut to this part of the project. In the next couple of problems, you'll have the option to use classes from the [TensorFlow Layers](https://www.tensorflow.org/api_docs/python/tf/layers) or [TensorFlow Layers (contrib)](https://www.tensorflow.org/api_guides/python/contrib.layers) packages to build each layer, except the layers you build in the \"Convolutional and Max Pooling Layer\" section.  TF Layers is similar to Keras's and TFLearn's abstraction to layers, so it's easy to pickup.\n",
    "\n",
    ">However, if you would like to get the most out of this course, try to solve all the problems _without_ using anything from the TF Layers packages. You **can** still use classes from other packages that happen to have the same name as ones you find in TF Layers! For example, instead of using the TF Layers version of the `conv2d` class, [tf.layers.conv2d](https://www.tensorflow.org/api_docs/python/tf/layers/conv2d), you would want to use the TF Neural Network version of `conv2d`, [tf.nn.conv2d](https://www.tensorflow.org/api_docs/python/tf/nn/conv2d). \n",
    "\n",
    "Let's begin!\n",
    "\n",
    "### Input\n",
    "The neural network needs to read the image data, one-hot encoded labels, and dropout keep probability. Implement the following functions\n",
    "* Implement `neural_net_image_input`\n",
    " * Return a [TF Placeholder](https://www.tensorflow.org/api_docs/python/tf/placeholder)\n",
    " * Set the shape using `image_shape` with batch size set to `None`.\n",
    " * Name the TensorFlow placeholder \"x\" using the TensorFlow `name` parameter in the [TF Placeholder](https://www.tensorflow.org/api_docs/python/tf/placeholder).\n",
    "* Implement `neural_net_label_input`\n",
    " * Return a [TF Placeholder](https://www.tensorflow.org/api_docs/python/tf/placeholder)\n",
    " * Set the shape using `n_classes` with batch size set to `None`.\n",
    " * Name the TensorFlow placeholder \"y\" using the TensorFlow `name` parameter in the [TF Placeholder](https://www.tensorflow.org/api_docs/python/tf/placeholder).\n",
    "* Implement `neural_net_keep_prob_input`\n",
    " * Return a [TF Placeholder](https://www.tensorflow.org/api_docs/python/tf/placeholder) for dropout keep probability.\n",
    " * Name the TensorFlow placeholder \"keep_prob\" using the TensorFlow `name` parameter in the [TF Placeholder](https://www.tensorflow.org/api_docs/python/tf/placeholder).\n",
    "\n",
    "These names will be used at the end of the project to load your saved model.\n",
    "\n",
    "Note: `None` for shapes in TensorFlow allow for a dynamic size."
   ]
  },
  {
   "cell_type": "code",
   "execution_count": 5,
   "metadata": {
    "collapsed": false,
    "deletable": true,
    "editable": true
   },
   "outputs": [
    {
     "name": "stdout",
     "output_type": "stream",
     "text": [
      "Image Input Tests Passed.\n",
      "Label Input Tests Passed.\n",
      "Keep Prob Tests Passed.\n"
     ]
    }
   ],
   "source": [
    "import tensorflow as tf\n",
    "\n",
    "def neural_net_image_input(image_shape):\n",
    "    \"\"\"\n",
    "    Return a Tensor for a bach of image input\n",
    "    : image_shape: Shape of the images\n",
    "    : return: Tensor for image input.\n",
    "    \"\"\"\n",
    "    # TODO: Implement Function\n",
    "    \n",
    "    return tf.placeholder(tf.float32, [None, image_shape[0],image_shape[1],image_shape[2]], name = 'x')\n",
    "\n",
    "\n",
    "def neural_net_label_input(n_classes):\n",
    "    \"\"\"\n",
    "    Return a Tensor for a batch of label input\n",
    "    : n_classes: Number of classes\n",
    "    : return: Tensor for label input.\n",
    "    \"\"\"\n",
    "    # TODO: Implement Function\n",
    "    return tf.placeholder(tf.float32, [None, n_classes], name = 'y')\n",
    "\n",
    "\n",
    "def neural_net_keep_prob_input():\n",
    "    \"\"\"\n",
    "    Return a Tensor for keep probability\n",
    "    : return: Tensor for keep probability.\n",
    "    \"\"\"\n",
    "    # TODO: Implement Function\n",
    "    return tf.placeholder(tf.float32, name = 'keep_prob')\n",
    "\n",
    "\n",
    "\"\"\"\n",
    "DON'T MODIFY ANYTHING IN THIS CELL THAT IS BELOW THIS LINE\n",
    "\"\"\"\n",
    "tf.reset_default_graph()\n",
    "tests.test_nn_image_inputs(neural_net_image_input)\n",
    "tests.test_nn_label_inputs(neural_net_label_input)\n",
    "tests.test_nn_keep_prob_inputs(neural_net_keep_prob_input)"
   ]
  },
  {
   "cell_type": "markdown",
   "metadata": {
    "deletable": true,
    "editable": true
   },
   "source": [
    "### Convolution and Max Pooling Layer\n",
    "Convolution layers have a lot of success with images. For this code cell, you should implement the function `conv2d_maxpool` to apply convolution then max pooling:\n",
    "* Create the weight and bias using `conv_ksize`, `conv_num_outputs` and the shape of `x_tensor`.\n",
    "* Apply a convolution to `x_tensor` using weight and `conv_strides`.\n",
    " * We recommend you use same padding, but you're welcome to use any padding.\n",
    "* Add bias\n",
    "* Add a nonlinear activation to the convolution.\n",
    "* Apply Max Pooling using `pool_ksize` and `pool_strides`.\n",
    " * We recommend you use same padding, but you're welcome to use any padding.\n",
    "\n",
    "**Note:** You **can't** use [TensorFlow Layers](https://www.tensorflow.org/api_docs/python/tf/layers) or [TensorFlow Layers (contrib)](https://www.tensorflow.org/api_guides/python/contrib.layers) for **this** layer, but you can still use TensorFlow's [Neural Network](https://www.tensorflow.org/api_docs/python/tf/nn) package. You may still use the shortcut option for all the **other** layers."
   ]
  },
  {
   "cell_type": "code",
   "execution_count": 22,
   "metadata": {
    "collapsed": false,
    "deletable": true,
    "editable": true
   },
   "outputs": [
    {
     "name": "stdout",
     "output_type": "stream",
     "text": [
      "Tests Passed\n"
     ]
    }
   ],
   "source": [
    "def conv2d_maxpool(x_tensor, conv_num_outputs, conv_ksize, conv_strides, pool_ksize, pool_strides):\n",
    "    \"\"\"\n",
    "    Apply convolution then max pooling to x_tensor\n",
    "    :param x_tensor: TensorFlow Tensor\n",
    "    :param conv_num_outputs: Number of outputs for the convolutional layer\n",
    "    :param conv_ksize: kernal size 2-D Tuple for the convolutional layer\n",
    "    :param conv_strides: Stride 2-D Tuple for convolution\n",
    "    :param pool_ksize: kernal size 2-D Tuple for pool\n",
    "    :param pool_strides: Stride 2-D Tuple for pool\n",
    "    : return: A tensor that represents convolution and max pooling of x_tensor\n",
    "    \"\"\"\n",
    "    # TODO: Implement Function\n",
    "    filter_height = conv_ksize[0]\n",
    "    filter_width = conv_ksize[1]\n",
    "    input_depth = x_tensor.get_shape().as_list()[-1]\n",
    "    \n",
    "    weights = tf.Variable(tf.truncated_normal( [filter_height, filter_width,input_depth, conv_num_outputs],0,0.1))\n",
    "    biases = tf.Variable(tf.zeros(conv_num_outputs))\n",
    "    \n",
    "    stride_height = conv_strides[0]\n",
    "    stride_width = conv_strides[1]\n",
    "    padding = \"SAME\"\n",
    "    conv1 = tf.nn.conv2d(x_tensor, weights, [1, stride_height, stride_width,1 ],  padding)\n",
    "    conv1 = tf.nn.bias_add(conv1, biases)\n",
    "    \n",
    "    conv1 = tf.contrib.layers.batch_norm(conv1, center=True, scale=True)\n",
    "    \n",
    "    pool_height = pool_ksize[0]\n",
    "    pool_width = pool_ksize[1]\n",
    "    \n",
    "    pool_stride_height = pool_strides[0]\n",
    "    pool_stride_width = pool_strides[1]\n",
    "    \n",
    "    conv1 = tf.nn.relu(conv1)\n",
    "    conv1 = tf.nn.max_pool(conv1, ksize=[1, pool_height, pool_width, 1], \n",
    "                           strides=[1,pool_stride_height,pool_stride_width , 1], padding=\"SAME\")\n",
    "    return conv1 \n",
    "\n",
    "\n",
    "\"\"\"\n",
    "DON'T MODIFY ANYTHING IN THIS CELL THAT IS BELOW THIS LINE\n",
    "\"\"\"\n",
    "tests.test_con_pool(conv2d_maxpool)"
   ]
  },
  {
   "cell_type": "markdown",
   "metadata": {
    "deletable": true,
    "editable": true
   },
   "source": [
    "### Flatten Layer\n",
    "Implement the `flatten` function to change the dimension of `x_tensor` from a 4-D tensor to a 2-D tensor.  The output should be the shape (*Batch Size*, *Flattened Image Size*). Shortcut option: you can use classes from the [TensorFlow Layers](https://www.tensorflow.org/api_docs/python/tf/layers) or [TensorFlow Layers (contrib)](https://www.tensorflow.org/api_guides/python/contrib.layers) packages for this layer. For more of a challenge, only use other TensorFlow packages."
   ]
  },
  {
   "cell_type": "code",
   "execution_count": 7,
   "metadata": {
    "collapsed": false,
    "deletable": true,
    "editable": true
   },
   "outputs": [
    {
     "name": "stdout",
     "output_type": "stream",
     "text": [
      "Tensor(\"Reshape:0\", shape=(?, 1800), dtype=float32)\n",
      "Tests Passed\n"
     ]
    }
   ],
   "source": [
    "def flatten(x_tensor):\n",
    "    \"\"\"\n",
    "    Flatten x_tensor to (Batch Size, Flattened Image Size)\n",
    "    : x_tensor: A tensor of size (Batch Size, ...), where ... are the image dimensions.\n",
    "    : return: A tensor of size (Batch Size, Flattened Image Size).\n",
    "    \"\"\"\n",
    "    # TODO: Implement Function\n",
    "    batch_size = x_tensor.get_shape().as_list()[0]\n",
    "    height = x_tensor.get_shape().as_list()[1]\n",
    "    width = x_tensor.get_shape().as_list()[2]\n",
    "    channel = x_tensor.get_shape().as_list()[3]\n",
    "       \n",
    "    new_shape = tf.reshape(x_tensor,[-1, height*width*channel])\n",
    "    print(new_shape)\n",
    "    return new_shape\n",
    "\n",
    "\n",
    "\"\"\"\n",
    "DON'T MODIFY ANYTHING IN THIS CELL THAT IS BELOW THIS LINE\n",
    "\"\"\"\n",
    "tests.test_flatten(flatten)"
   ]
  },
  {
   "cell_type": "markdown",
   "metadata": {
    "deletable": true,
    "editable": true
   },
   "source": [
    "### Fully-Connected Layer\n",
    "Implement the `fully_conn` function to apply a fully connected layer to `x_tensor` with the shape (*Batch Size*, *num_outputs*). Shortcut option: you can use classes from the [TensorFlow Layers](https://www.tensorflow.org/api_docs/python/tf/layers) or [TensorFlow Layers (contrib)](https://www.tensorflow.org/api_guides/python/contrib.layers) packages for this layer. For more of a challenge, only use other TensorFlow packages."
   ]
  },
  {
   "cell_type": "code",
   "execution_count": 8,
   "metadata": {
    "collapsed": false,
    "deletable": true,
    "editable": true
   },
   "outputs": [
    {
     "name": "stdout",
     "output_type": "stream",
     "text": [
      "Tensor(\"Placeholder_2:0\", shape=(?, 128), dtype=float32)\n",
      "Tests Passed\n"
     ]
    }
   ],
   "source": [
    "def fully_conn(x_tensor, num_outputs):\n",
    "    \"\"\"\n",
    "    Apply a fully connected layer to x_tensor using weight and bias\n",
    "    : x_tensor: A 2-D tensor where the first dimension is batch size.\n",
    "    : num_outputs: The number of output that the new tensor should be.\n",
    "    : return: A 2-D tensor where the second dimension is num_outputs.\n",
    "    \"\"\"\n",
    "    # TODO: Implement Function\n",
    "    print(x_tensor)\n",
    "    input_depth = x_tensor.get_shape().as_list()[-1]\n",
    "    \n",
    "    weights = tf.Variable(tf.truncated_normal( [input_depth, num_outputs],0,0.1 ))\n",
    "    biases = tf.Variable(tf.zeros(num_outputs))\n",
    "    \n",
    "    fc1 = tf.add(tf.matmul(x_tensor, weights), biases)\n",
    "    fc2 = tf.nn.relu(fc1)\n",
    "    \n",
    "    return fc2\n",
    "\n",
    "\n",
    "\"\"\"\n",
    "DON'T MODIFY ANYTHING IN THIS CELL THAT IS BELOW THIS LINE\n",
    "\"\"\"\n",
    "tests.test_fully_conn(fully_conn)"
   ]
  },
  {
   "cell_type": "markdown",
   "metadata": {
    "deletable": true,
    "editable": true
   },
   "source": [
    "### Output Layer\n",
    "Implement the `output` function to apply a fully connected layer to `x_tensor` with the shape (*Batch Size*, *num_outputs*). Shortcut option: you can use classes from the [TensorFlow Layers](https://www.tensorflow.org/api_docs/python/tf/layers) or [TensorFlow Layers (contrib)](https://www.tensorflow.org/api_guides/python/contrib.layers) packages for this layer. For more of a challenge, only use other TensorFlow packages.\n",
    "\n",
    "**Note:** Activation, softmax, or cross entropy should **not** be applied to this."
   ]
  },
  {
   "cell_type": "code",
   "execution_count": 9,
   "metadata": {
    "collapsed": false,
    "deletable": true,
    "editable": true
   },
   "outputs": [
    {
     "name": "stdout",
     "output_type": "stream",
     "text": [
      "Tests Passed\n"
     ]
    }
   ],
   "source": [
    "def output(x_tensor, num_outputs):\n",
    "    \"\"\"\n",
    "    Apply a output layer to x_tensor using weight and bias\n",
    "    : x_tensor: A 2-D tensor where the first dimension is batch size.\n",
    "    : num_outputs: The number of output that the new tensor should be.\n",
    "    : return: A 2-D tensor where the second dimension is num_outputs.\n",
    "    \"\"\"\n",
    "    # TODO: Implement Function\n",
    "    input_depth = x_tensor.get_shape().as_list()[-1]\n",
    "    \n",
    "    weights = tf.Variable(tf.truncated_normal( [input_depth, num_outputs],0,0.1))\n",
    "    biases = tf.Variable(tf.zeros(num_outputs))\n",
    "    \n",
    "    fc1 = tf.add(tf.matmul(x_tensor, weights), biases)\n",
    "    \n",
    "    return fc1\n",
    "\n",
    "\n",
    "\"\"\"\n",
    "DON'T MODIFY ANYTHING IN THIS CELL THAT IS BELOW THIS LINE\n",
    "\"\"\"\n",
    "tests.test_output(output)"
   ]
  },
  {
   "cell_type": "markdown",
   "metadata": {
    "deletable": true,
    "editable": true
   },
   "source": [
    "### Create Convolutional Model\n",
    "Implement the function `conv_net` to create a convolutional neural network model. The function takes in a batch of images, `x`, and outputs logits.  Use the layers you created above to create this model:\n",
    "\n",
    "* Apply 1, 2, or 3 Convolution and Max Pool layers\n",
    "* Apply a Flatten Layer\n",
    "* Apply 1, 2, or 3 Fully Connected Layers\n",
    "* Apply an Output Layer\n",
    "* Return the output\n",
    "* Apply [TensorFlow's Dropout](https://www.tensorflow.org/api_docs/python/tf/nn/dropout) to one or more layers in the model using `keep_prob`. "
   ]
  },
  {
   "cell_type": "code",
   "execution_count": 23,
   "metadata": {
    "collapsed": false,
    "deletable": true,
    "editable": true
   },
   "outputs": [
    {
     "name": "stdout",
     "output_type": "stream",
     "text": [
      "Tensor(\"Reshape:0\", shape=(?, 1280), dtype=float32)\n",
      "Tensor(\"dropout_1/mul:0\", shape=(?, 1280), dtype=float32)\n",
      "Tensor(\"Reshape_4:0\", shape=(?, 1280), dtype=float32)\n",
      "Tensor(\"dropout_3/mul:0\", shape=(?, 1280), dtype=float32)\n",
      "Neural Network Built!\n"
     ]
    }
   ],
   "source": [
    "def conv_net(x, keep_prob):\n",
    "    \"\"\"\n",
    "    Create a convolutional neural network model\n",
    "    : x: Placeholder tensor that holds image data.\n",
    "    : keep_prob: Placeholder tensor that hold dropout keep probability.\n",
    "    : return: Tensor that represents logits\n",
    "    \"\"\"\n",
    "    # TODO: Apply 1, 2, or 3 Convolution and Max Pool layers\n",
    "    #    Play around with different number of outputs, kernel size and stride\n",
    "    # Function Definition from Above:\n",
    "    #    conv2d_maxpool(x_tensor, conv_num_outputs, conv_ksize, conv_strides, pool_ksize, pool_strides)\n",
    "    model = conv2d_maxpool(x, conv_num_outputs=40, conv_ksize=(4,4), conv_strides=(2,2), pool_ksize=(4,4), pool_strides=(2,2))\n",
    "    model = conv2d_maxpool(model, conv_num_outputs=20, conv_ksize=(2,2), conv_strides=(1,1), pool_ksize=(2,2), pool_strides=(1,1))\n",
    "    \n",
    "    model = tf.nn.dropout(model, keep_prob)\n",
    "    # TODO: Apply a Flatten Layer\n",
    "    # Function Definition from Above:\n",
    "    #   flatten(x_tensor)\n",
    "    model = flatten(model)\n",
    "    \n",
    "    model = tf.nn.dropout(model, keep_prob)\n",
    "\n",
    "    # TODO: Apply 1, 2, or 3 Fully Connected Layers\n",
    "    #    Play around with different number of outputs\n",
    "    # Function Definition from Above:\n",
    "    #   fully_conn(x_tensor, num_outputs)\n",
    "    model = fully_conn(model, num_outputs = 20)\n",
    "    \n",
    "    # TODO: Apply an Output Layer\n",
    "    #    Set this to the number of classes\n",
    "    # Function Definition from Above:\n",
    "    #   output(x_tensor, num_outputs)\n",
    "    model = output(model, num_outputs = 10)\n",
    "    \n",
    "    # TODO: return output\n",
    "    return model\n",
    "\n",
    "\n",
    "\"\"\"\n",
    "DON'T MODIFY ANYTHING IN THIS CELL THAT IS BELOW THIS LINE\n",
    "\"\"\"\n",
    "\n",
    "##############################\n",
    "## Build the Neural Network ##\n",
    "##############################\n",
    "\n",
    "# Remove previous weights, bias, inputs, etc..\n",
    "tf.reset_default_graph()\n",
    "\n",
    "# Inputs\n",
    "x = neural_net_image_input((32, 32, 3))\n",
    "y = neural_net_label_input(10)\n",
    "keep_prob = neural_net_keep_prob_input()\n",
    "\n",
    "# Model\n",
    "logits = conv_net(x, keep_prob)\n",
    "\n",
    "# Name logits Tensor, so that is can be loaded from disk after training\n",
    "logits = tf.identity(logits, name='logits')\n",
    "\n",
    "# Loss and Optimizer\n",
    "cost = tf.reduce_mean(tf.nn.softmax_cross_entropy_with_logits(logits=logits, labels=y))\n",
    "optimizer = tf.train.AdamOptimizer().minimize(cost)\n",
    "\n",
    "# Accuracy\n",
    "correct_pred = tf.equal(tf.argmax(logits, 1), tf.argmax(y, 1))\n",
    "accuracy = tf.reduce_mean(tf.cast(correct_pred, tf.float32), name='accuracy')\n",
    "\n",
    "tests.test_conv_net(conv_net)"
   ]
  },
  {
   "cell_type": "markdown",
   "metadata": {
    "deletable": true,
    "editable": true
   },
   "source": [
    "## Train the Neural Network\n",
    "### Single Optimization\n",
    "Implement the function `train_neural_network` to do a single optimization.  The optimization should use `optimizer` to optimize in `session` with a `feed_dict` of the following:\n",
    "* `x` for image input\n",
    "* `y` for labels\n",
    "* `keep_prob` for keep probability for dropout\n",
    "\n",
    "This function will be called for each batch, so `tf.global_variables_initializer()` has already been called.\n",
    "\n",
    "Note: Nothing needs to be returned. This function is only optimizing the neural network."
   ]
  },
  {
   "cell_type": "code",
   "execution_count": 24,
   "metadata": {
    "collapsed": false,
    "deletable": true,
    "editable": true
   },
   "outputs": [
    {
     "name": "stdout",
     "output_type": "stream",
     "text": [
      "Tests Passed\n"
     ]
    }
   ],
   "source": [
    "def train_neural_network(session, optimizer, keep_probability, feature_batch, label_batch):\n",
    "    \"\"\"\n",
    "    Optimize the session on a batch of images and labels\n",
    "    : session: Current TensorFlow session\n",
    "    : optimizer: TensorFlow optimizer function\n",
    "    : keep_probability: keep probability\n",
    "    : feature_batch: Batch of Numpy image data\n",
    "    : label_batch: Batch of Numpy label data\n",
    "    \"\"\"\n",
    "    # TODO: Implement Function\n",
    "    session.run(optimizer, feed_dict= {x : feature_batch, y: label_batch, keep_prob : keep_probability})\n",
    "    pass\n",
    "\n",
    "\n",
    "\"\"\"\n",
    "DON'T MODIFY ANYTHING IN THIS CELL THAT IS BELOW THIS LINE\n",
    "\"\"\"\n",
    "tests.test_train_nn(train_neural_network)"
   ]
  },
  {
   "cell_type": "markdown",
   "metadata": {
    "deletable": true,
    "editable": true
   },
   "source": [
    "### Show Stats\n",
    "Implement the function `print_stats` to print loss and validation accuracy.  Use the global variables `valid_features` and `valid_labels` to calculate validation accuracy.  Use a keep probability of `1.0` to calculate the loss and validation accuracy."
   ]
  },
  {
   "cell_type": "code",
   "execution_count": 25,
   "metadata": {
    "collapsed": false,
    "deletable": true,
    "editable": true
   },
   "outputs": [],
   "source": [
    "def print_stats(session, feature_batch, label_batch, cost, accuracy):\n",
    "    \"\"\"\n",
    "    Print information about loss and validation accuracy\n",
    "    : session: Current TensorFlow session\n",
    "    : feature_batch: Batch of Numpy image data\n",
    "    : label_batch: Batch of Numpy label data\n",
    "    : cost: TensorFlow cost function\n",
    "    : accuracy: TensorFlow accuracy function\n",
    "    \"\"\"\n",
    "    # TODO: Implement Function\n",
    "    loss = session.run(cost, feed_dict={x:feature_batch, y:label_batch, keep_prob:1.0})\n",
    "    valid_accuracy = session.run(accuracy, feed_dict = {x: valid_features,y: valid_labels, keep_prob:1.0}) \n",
    "    print(\"Loss: \", loss, \"\\t\\tAccuracy: \", valid_accuracy)\n",
    "    pass\n"
   ]
  },
  {
   "cell_type": "markdown",
   "metadata": {
    "deletable": true,
    "editable": true
   },
   "source": [
    "### Hyperparameters\n",
    "Tune the following parameters:\n",
    "* Set `epochs` to the number of iterations until the network stops learning or start overfitting\n",
    "* Set `batch_size` to the highest number that your machine has memory for.  Most people set them to common sizes of memory:\n",
    " * 64\n",
    " * 128\n",
    " * 256\n",
    " * ...\n",
    "* Set `keep_probability` to the probability of keeping a node using dropout"
   ]
  },
  {
   "cell_type": "code",
   "execution_count": 28,
   "metadata": {
    "collapsed": true,
    "deletable": true,
    "editable": true
   },
   "outputs": [],
   "source": [
    "# TODO: Tune Parameters\n",
    "epochs = 25\n",
    "batch_size = 256\n",
    "keep_probability = 0.5"
   ]
  },
  {
   "cell_type": "markdown",
   "metadata": {
    "deletable": true,
    "editable": true
   },
   "source": [
    "### Train on a Single CIFAR-10 Batch\n",
    "Instead of training the neural network on all the CIFAR-10 batches of data, let's use a single batch. This should save time while you iterate on the model to get a better accuracy.  Once the final validation accuracy is 50% or greater, run the model on all the data in the next section."
   ]
  },
  {
   "cell_type": "code",
   "execution_count": 29,
   "metadata": {
    "collapsed": false,
    "deletable": true,
    "editable": true
   },
   "outputs": [
    {
     "name": "stdout",
     "output_type": "stream",
     "text": [
      "Checking the Training on a Single Batch...\n",
      "Epoch  1, CIFAR-10 Batch 1:  Loss:  2.25106 \t\tAccuracy:  0.2214\n",
      "Epoch  2, CIFAR-10 Batch 1:  Loss:  1.99775 \t\tAccuracy:  0.2608\n",
      "Epoch  3, CIFAR-10 Batch 1:  Loss:  1.87555 \t\tAccuracy:  0.2914\n",
      "Epoch  4, CIFAR-10 Batch 1:  Loss:  1.80145 \t\tAccuracy:  0.3296\n",
      "Epoch  5, CIFAR-10 Batch 1:  Loss:  1.7063 \t\tAccuracy:  0.3628\n",
      "Epoch  6, CIFAR-10 Batch 1:  Loss:  1.59204 \t\tAccuracy:  0.391\n",
      "Epoch  7, CIFAR-10 Batch 1:  Loss:  1.51884 \t\tAccuracy:  0.4126\n",
      "Epoch  8, CIFAR-10 Batch 1:  Loss:  1.45627 \t\tAccuracy:  0.423\n",
      "Epoch  9, CIFAR-10 Batch 1:  Loss:  1.35019 \t\tAccuracy:  0.4488\n",
      "Epoch 10, CIFAR-10 Batch 1:  Loss:  1.32687 \t\tAccuracy:  0.4692\n",
      "Epoch 11, CIFAR-10 Batch 1:  Loss:  1.25841 \t\tAccuracy:  0.4684\n",
      "Epoch 12, CIFAR-10 Batch 1:  Loss:  1.25031 \t\tAccuracy:  0.4804\n",
      "Epoch 13, CIFAR-10 Batch 1:  Loss:  1.16718 \t\tAccuracy:  0.4906\n",
      "Epoch 14, CIFAR-10 Batch 1:  Loss:  1.13676 \t\tAccuracy:  0.4928\n",
      "Epoch 15, CIFAR-10 Batch 1:  Loss:  1.10533 \t\tAccuracy:  0.4996\n",
      "Epoch 16, CIFAR-10 Batch 1:  Loss:  1.07537 \t\tAccuracy:  0.5122\n",
      "Epoch 17, CIFAR-10 Batch 1:  Loss:  1.06012 \t\tAccuracy:  0.5128\n",
      "Epoch 18, CIFAR-10 Batch 1:  Loss:  1.02221 \t\tAccuracy:  0.5228\n",
      "Epoch 19, CIFAR-10 Batch 1:  Loss:  0.992226 \t\tAccuracy:  0.53\n",
      "Epoch 20, CIFAR-10 Batch 1:  Loss:  0.976523 \t\tAccuracy:  0.5316\n",
      "Epoch 21, CIFAR-10 Batch 1:  Loss:  0.949489 \t\tAccuracy:  0.5334\n",
      "Epoch 22, CIFAR-10 Batch 1:  Loss:  0.919121 \t\tAccuracy:  0.5388\n",
      "Epoch 23, CIFAR-10 Batch 1:  Loss:  0.889933 \t\tAccuracy:  0.5486\n",
      "Epoch 24, CIFAR-10 Batch 1:  Loss:  0.889946 \t\tAccuracy:  0.553\n",
      "Epoch 25, CIFAR-10 Batch 1:  Loss:  0.873352 \t\tAccuracy:  0.5498\n"
     ]
    }
   ],
   "source": [
    "\"\"\"\n",
    "DON'T MODIFY ANYTHING IN THIS CELL\n",
    "\"\"\"\n",
    "print('Checking the Training on a Single Batch...')\n",
    "with tf.Session() as sess:\n",
    "    # Initializing the variables\n",
    "    sess.run(tf.global_variables_initializer())\n",
    "    \n",
    "    # Training cycle\n",
    "    for epoch in range(epochs):\n",
    "        batch_i = 1\n",
    "        for batch_features, batch_labels in helper.load_preprocess_training_batch(batch_i, batch_size):\n",
    "            train_neural_network(sess, optimizer, keep_probability, batch_features, batch_labels)\n",
    "        print('Epoch {:>2}, CIFAR-10 Batch {}:  '.format(epoch + 1, batch_i), end='')\n",
    "        print_stats(sess, batch_features, batch_labels, cost, accuracy)"
   ]
  },
  {
   "cell_type": "markdown",
   "metadata": {
    "deletable": true,
    "editable": true
   },
   "source": [
    "### Fully Train the Model\n",
    "Now that you got a good accuracy with a single CIFAR-10 batch, try it with all five batches."
   ]
  },
  {
   "cell_type": "code",
   "execution_count": 30,
   "metadata": {
    "collapsed": false,
    "deletable": true,
    "editable": true
   },
   "outputs": [
    {
     "name": "stdout",
     "output_type": "stream",
     "text": [
      "Training...\n",
      "Epoch  1, CIFAR-10 Batch 1:  Loss:  2.2934 \t\tAccuracy:  0.0808\n",
      "Epoch  1, CIFAR-10 Batch 2:  Loss:  2.31388 \t\tAccuracy:  0.166\n",
      "Epoch  1, CIFAR-10 Batch 3:  Loss:  2.02725 \t\tAccuracy:  0.231\n",
      "Epoch  1, CIFAR-10 Batch 4:  Loss:  1.8972 \t\tAccuracy:  0.3\n",
      "Epoch  1, CIFAR-10 Batch 5:  Loss:  1.7151 \t\tAccuracy:  0.3442\n",
      "Epoch  2, CIFAR-10 Batch 1:  Loss:  1.71352 \t\tAccuracy:  0.3892\n",
      "Epoch  2, CIFAR-10 Batch 2:  Loss:  1.76031 \t\tAccuracy:  0.4132\n",
      "Epoch  2, CIFAR-10 Batch 3:  Loss:  1.46099 \t\tAccuracy:  0.4238\n",
      "Epoch  2, CIFAR-10 Batch 4:  Loss:  1.62852 \t\tAccuracy:  0.4406\n",
      "Epoch  2, CIFAR-10 Batch 5:  Loss:  1.47235 \t\tAccuracy:  0.4544\n",
      "Epoch  3, CIFAR-10 Batch 1:  Loss:  1.58444 \t\tAccuracy:  0.4604\n",
      "Epoch  3, CIFAR-10 Batch 2:  Loss:  1.52661 \t\tAccuracy:  0.4698\n",
      "Epoch  3, CIFAR-10 Batch 3:  Loss:  1.33619 \t\tAccuracy:  0.4644\n",
      "Epoch  3, CIFAR-10 Batch 4:  Loss:  1.43487 \t\tAccuracy:  0.4858\n",
      "Epoch  3, CIFAR-10 Batch 5:  Loss:  1.39583 \t\tAccuracy:  0.4856\n",
      "Epoch  4, CIFAR-10 Batch 1:  Loss:  1.46924 \t\tAccuracy:  0.503\n",
      "Epoch  4, CIFAR-10 Batch 2:  Loss:  1.39519 \t\tAccuracy:  0.499\n",
      "Epoch  4, CIFAR-10 Batch 3:  Loss:  1.25355 \t\tAccuracy:  0.4974\n",
      "Epoch  4, CIFAR-10 Batch 4:  Loss:  1.32018 \t\tAccuracy:  0.5076\n",
      "Epoch  4, CIFAR-10 Batch 5:  Loss:  1.35475 \t\tAccuracy:  0.5028\n",
      "Epoch  5, CIFAR-10 Batch 1:  Loss:  1.39464 \t\tAccuracy:  0.5238\n",
      "Epoch  5, CIFAR-10 Batch 2:  Loss:  1.2705 \t\tAccuracy:  0.5106\n",
      "Epoch  5, CIFAR-10 Batch 3:  Loss:  1.20747 \t\tAccuracy:  0.5158\n",
      "Epoch  5, CIFAR-10 Batch 4:  Loss:  1.25287 \t\tAccuracy:  0.5304\n",
      "Epoch  5, CIFAR-10 Batch 5:  Loss:  1.24429 \t\tAccuracy:  0.5192\n",
      "Epoch  6, CIFAR-10 Batch 1:  Loss:  1.34179 \t\tAccuracy:  0.542\n",
      "Epoch  6, CIFAR-10 Batch 2:  Loss:  1.22819 \t\tAccuracy:  0.5326\n",
      "Epoch  6, CIFAR-10 Batch 3:  Loss:  1.11664 \t\tAccuracy:  0.5392\n",
      "Epoch  6, CIFAR-10 Batch 4:  Loss:  1.18686 \t\tAccuracy:  0.5494\n",
      "Epoch  6, CIFAR-10 Batch 5:  Loss:  1.19092 \t\tAccuracy:  0.5412\n",
      "Epoch  7, CIFAR-10 Batch 1:  Loss:  1.26303 \t\tAccuracy:  0.561\n",
      "Epoch  7, CIFAR-10 Batch 2:  Loss:  1.15758 \t\tAccuracy:  0.5498\n",
      "Epoch  7, CIFAR-10 Batch 3:  Loss:  1.06877 \t\tAccuracy:  0.5564\n",
      "Epoch  7, CIFAR-10 Batch 4:  Loss:  1.16614 \t\tAccuracy:  0.5654\n",
      "Epoch  7, CIFAR-10 Batch 5:  Loss:  1.10619 \t\tAccuracy:  0.5612\n",
      "Epoch  8, CIFAR-10 Batch 1:  Loss:  1.21042 \t\tAccuracy:  0.5786\n",
      "Epoch  8, CIFAR-10 Batch 2:  Loss:  1.12616 \t\tAccuracy:  0.566\n",
      "Epoch  8, CIFAR-10 Batch 3:  Loss:  1.00333 \t\tAccuracy:  0.5674\n",
      "Epoch  8, CIFAR-10 Batch 4:  Loss:  1.11459 \t\tAccuracy:  0.585\n",
      "Epoch  8, CIFAR-10 Batch 5:  Loss:  1.06008 \t\tAccuracy:  0.5782\n",
      "Epoch  9, CIFAR-10 Batch 1:  Loss:  1.16712 \t\tAccuracy:  0.5868\n",
      "Epoch  9, CIFAR-10 Batch 2:  Loss:  1.07386 \t\tAccuracy:  0.5792\n",
      "Epoch  9, CIFAR-10 Batch 3:  Loss:  0.980626 \t\tAccuracy:  0.5818\n",
      "Epoch  9, CIFAR-10 Batch 4:  Loss:  1.07782 \t\tAccuracy:  0.5968\n",
      "Epoch  9, CIFAR-10 Batch 5:  Loss:  0.998531 \t\tAccuracy:  0.5922\n",
      "Epoch 10, CIFAR-10 Batch 1:  Loss:  1.10157 \t\tAccuracy:  0.6036\n",
      "Epoch 10, CIFAR-10 Batch 2:  Loss:  1.05069 \t\tAccuracy:  0.5968\n",
      "Epoch 10, CIFAR-10 Batch 3:  Loss:  0.963863 \t\tAccuracy:  0.6002\n",
      "Epoch 10, CIFAR-10 Batch 4:  Loss:  1.0999 \t\tAccuracy:  0.616\n",
      "Epoch 10, CIFAR-10 Batch 5:  Loss:  0.997977 \t\tAccuracy:  0.5998\n",
      "Epoch 11, CIFAR-10 Batch 1:  Loss:  1.04969 \t\tAccuracy:  0.611\n",
      "Epoch 11, CIFAR-10 Batch 2:  Loss:  1.00304 \t\tAccuracy:  0.6098\n",
      "Epoch 11, CIFAR-10 Batch 3:  Loss:  0.887749 \t\tAccuracy:  0.6118\n",
      "Epoch 11, CIFAR-10 Batch 4:  Loss:  1.04997 \t\tAccuracy:  0.615\n",
      "Epoch 11, CIFAR-10 Batch 5:  Loss:  0.971259 \t\tAccuracy:  0.61\n",
      "Epoch 12, CIFAR-10 Batch 1:  Loss:  0.996293 \t\tAccuracy:  0.6238\n",
      "Epoch 12, CIFAR-10 Batch 2:  Loss:  1.00304 \t\tAccuracy:  0.6126\n",
      "Epoch 12, CIFAR-10 Batch 3:  Loss:  0.865626 \t\tAccuracy:  0.621\n",
      "Epoch 12, CIFAR-10 Batch 4:  Loss:  1.05418 \t\tAccuracy:  0.6228\n",
      "Epoch 12, CIFAR-10 Batch 5:  Loss:  0.941175 \t\tAccuracy:  0.6194\n",
      "Epoch 13, CIFAR-10 Batch 1:  Loss:  0.985523 \t\tAccuracy:  0.6292\n",
      "Epoch 13, CIFAR-10 Batch 2:  Loss:  0.979382 \t\tAccuracy:  0.6276\n",
      "Epoch 13, CIFAR-10 Batch 3:  Loss:  0.830905 \t\tAccuracy:  0.626\n",
      "Epoch 13, CIFAR-10 Batch 4:  Loss:  1.03362 \t\tAccuracy:  0.6312\n",
      "Epoch 13, CIFAR-10 Batch 5:  Loss:  0.876512 \t\tAccuracy:  0.6236\n",
      "Epoch 14, CIFAR-10 Batch 1:  Loss:  0.996734 \t\tAccuracy:  0.6324\n",
      "Epoch 14, CIFAR-10 Batch 2:  Loss:  0.938105 \t\tAccuracy:  0.6256\n",
      "Epoch 14, CIFAR-10 Batch 3:  Loss:  0.827629 \t\tAccuracy:  0.6264\n",
      "Epoch 14, CIFAR-10 Batch 4:  Loss:  1.02825 \t\tAccuracy:  0.6356\n",
      "Epoch 14, CIFAR-10 Batch 5:  Loss:  0.887464 \t\tAccuracy:  0.6244\n",
      "Epoch 15, CIFAR-10 Batch 1:  Loss:  0.960361 \t\tAccuracy:  0.632\n",
      "Epoch 15, CIFAR-10 Batch 2:  Loss:  0.947315 \t\tAccuracy:  0.6338\n",
      "Epoch 15, CIFAR-10 Batch 3:  Loss:  0.775648 \t\tAccuracy:  0.6372\n",
      "Epoch 15, CIFAR-10 Batch 4:  Loss:  1.01017 \t\tAccuracy:  0.642\n",
      "Epoch 15, CIFAR-10 Batch 5:  Loss:  0.853418 \t\tAccuracy:  0.6332\n",
      "Epoch 16, CIFAR-10 Batch 1:  Loss:  0.952028 \t\tAccuracy:  0.64\n",
      "Epoch 16, CIFAR-10 Batch 2:  Loss:  0.919321 \t\tAccuracy:  0.6428\n",
      "Epoch 16, CIFAR-10 Batch 3:  Loss:  0.77413 \t\tAccuracy:  0.6432\n",
      "Epoch 16, CIFAR-10 Batch 4:  Loss:  0.986429 \t\tAccuracy:  0.6476\n",
      "Epoch 16, CIFAR-10 Batch 5:  Loss:  0.812321 \t\tAccuracy:  0.64\n",
      "Epoch 17, CIFAR-10 Batch 1:  Loss:  0.974444 \t\tAccuracy:  0.6442\n",
      "Epoch 17, CIFAR-10 Batch 2:  Loss:  0.912405 \t\tAccuracy:  0.6448\n",
      "Epoch 17, CIFAR-10 Batch 3:  Loss:  0.767734 \t\tAccuracy:  0.6476\n",
      "Epoch 17, CIFAR-10 Batch 4:  Loss:  0.944364 \t\tAccuracy:  0.655\n",
      "Epoch 17, CIFAR-10 Batch 5:  Loss:  0.806557 \t\tAccuracy:  0.6428\n",
      "Epoch 18, CIFAR-10 Batch 1:  Loss:  0.931434 \t\tAccuracy:  0.6488\n",
      "Epoch 18, CIFAR-10 Batch 2:  Loss:  0.875316 \t\tAccuracy:  0.6438\n",
      "Epoch 18, CIFAR-10 Batch 3:  Loss:  0.729988 \t\tAccuracy:  0.6462\n",
      "Epoch 18, CIFAR-10 Batch 4:  Loss:  0.944346 \t\tAccuracy:  0.6492\n",
      "Epoch 18, CIFAR-10 Batch 5:  Loss:  0.778903 \t\tAccuracy:  0.641\n",
      "Epoch 19, CIFAR-10 Batch 1:  Loss:  0.940203 \t\tAccuracy:  0.6506\n",
      "Epoch 19, CIFAR-10 Batch 2:  Loss:  0.856652 \t\tAccuracy:  0.6524\n",
      "Epoch 19, CIFAR-10 Batch 3:  Loss:  0.739547 \t\tAccuracy:  0.6516\n",
      "Epoch 19, CIFAR-10 Batch 4:  Loss:  0.944104 \t\tAccuracy:  0.6568\n",
      "Epoch 19, CIFAR-10 Batch 5:  Loss:  0.784822 \t\tAccuracy:  0.6476\n",
      "Epoch 20, CIFAR-10 Batch 1:  Loss:  0.920269 \t\tAccuracy:  0.6598\n",
      "Epoch 20, CIFAR-10 Batch 2:  Loss:  0.835827 \t\tAccuracy:  0.6514\n",
      "Epoch 20, CIFAR-10 Batch 3:  Loss:  0.720166 \t\tAccuracy:  0.6548\n",
      "Epoch 20, CIFAR-10 Batch 4:  Loss:  0.970083 \t\tAccuracy:  0.6568\n",
      "Epoch 20, CIFAR-10 Batch 5:  Loss:  0.731716 \t\tAccuracy:  0.6532\n",
      "Epoch 21, CIFAR-10 Batch 1:  Loss:  0.909047 \t\tAccuracy:  0.6584\n",
      "Epoch 21, CIFAR-10 Batch 2:  Loss:  0.816944 \t\tAccuracy:  0.6528\n",
      "Epoch 21, CIFAR-10 Batch 3:  Loss:  0.698506 \t\tAccuracy:  0.6502\n",
      "Epoch 21, CIFAR-10 Batch 4:  Loss:  0.912076 \t\tAccuracy:  0.6554\n",
      "Epoch 21, CIFAR-10 Batch 5:  Loss:  0.730562 \t\tAccuracy:  0.6542\n",
      "Epoch 22, CIFAR-10 Batch 1:  Loss:  0.915868 \t\tAccuracy:  0.6592\n",
      "Epoch 22, CIFAR-10 Batch 2:  Loss:  0.813083 \t\tAccuracy:  0.6576\n",
      "Epoch 22, CIFAR-10 Batch 3:  Loss:  0.695355 \t\tAccuracy:  0.6592\n",
      "Epoch 22, CIFAR-10 Batch 4:  Loss:  0.911789 \t\tAccuracy:  0.6568\n",
      "Epoch 22, CIFAR-10 Batch 5:  Loss:  0.717664 \t\tAccuracy:  0.656\n",
      "Epoch 23, CIFAR-10 Batch 1:  Loss:  0.939046 \t\tAccuracy:  0.6634\n",
      "Epoch 23, CIFAR-10 Batch 2:  Loss:  0.825696 \t\tAccuracy:  0.6604\n",
      "Epoch 23, CIFAR-10 Batch 3:  Loss:  0.67505 \t\tAccuracy:  0.6622\n",
      "Epoch 23, CIFAR-10 Batch 4:  Loss:  0.882461 \t\tAccuracy:  0.6604\n",
      "Epoch 23, CIFAR-10 Batch 5:  Loss:  0.716242 \t\tAccuracy:  0.6574\n",
      "Epoch 24, CIFAR-10 Batch 1:  Loss:  0.896994 \t\tAccuracy:  0.6612\n",
      "Epoch 24, CIFAR-10 Batch 2:  Loss:  0.842209 \t\tAccuracy:  0.6614\n",
      "Epoch 24, CIFAR-10 Batch 3:  Loss:  0.669989 \t\tAccuracy:  0.6634\n",
      "Epoch 24, CIFAR-10 Batch 4:  Loss:  0.868884 \t\tAccuracy:  0.665\n",
      "Epoch 24, CIFAR-10 Batch 5:  Loss:  0.695292 \t\tAccuracy:  0.6584\n",
      "Epoch 25, CIFAR-10 Batch 1:  Loss:  0.881649 \t\tAccuracy:  0.6662\n",
      "Epoch 25, CIFAR-10 Batch 2:  Loss:  0.78795 \t\tAccuracy:  0.6648\n",
      "Epoch 25, CIFAR-10 Batch 3:  Loss:  0.670206 \t\tAccuracy:  0.6614\n",
      "Epoch 25, CIFAR-10 Batch 4:  Loss:  0.856195 \t\tAccuracy:  0.6668\n",
      "Epoch 25, CIFAR-10 Batch 5:  Loss:  0.660863 \t\tAccuracy:  0.6612\n"
     ]
    }
   ],
   "source": [
    "\"\"\"\n",
    "DON'T MODIFY ANYTHING IN THIS CELL\n",
    "\"\"\"\n",
    "save_model_path = './image_classification'\n",
    "\n",
    "print('Training...')\n",
    "with tf.Session() as sess:\n",
    "    # Initializing the variables\n",
    "    sess.run(tf.global_variables_initializer())\n",
    "    \n",
    "    # Training cycle\n",
    "    for epoch in range(epochs):\n",
    "        # Loop over all batches\n",
    "        n_batches = 5\n",
    "        for batch_i in range(1, n_batches + 1):\n",
    "            for batch_features, batch_labels in helper.load_preprocess_training_batch(batch_i, batch_size):\n",
    "                train_neural_network(sess, optimizer, keep_probability, batch_features, batch_labels)\n",
    "            print('Epoch {:>2}, CIFAR-10 Batch {}:  '.format(epoch + 1, batch_i), end='')\n",
    "            print_stats(sess, batch_features, batch_labels, cost, accuracy)\n",
    "            \n",
    "    # Save Model\n",
    "    saver = tf.train.Saver()\n",
    "    save_path = saver.save(sess, save_model_path)"
   ]
  },
  {
   "cell_type": "markdown",
   "metadata": {
    "deletable": true,
    "editable": true
   },
   "source": [
    "# Checkpoint\n",
    "The model has been saved to disk.\n",
    "## Test Model\n",
    "Test your model against the test dataset.  This will be your final accuracy. You should have an accuracy greater than 50%. If you don't, keep tweaking the model architecture and parameters."
   ]
  },
  {
   "cell_type": "code",
   "execution_count": 36,
   "metadata": {
    "collapsed": false,
    "deletable": true,
    "editable": true
   },
   "outputs": [
    {
     "name": "stdout",
     "output_type": "stream",
     "text": [
      "Testing Accuracy: 0.657421875\n",
      "\n"
     ]
    },
    {
     "data": {
      "image/png": "[encoded data removed]",
      "text/plain": [
       "<matplotlib.figure.Figure at 0x7f9d2476e390>"
      ]
     },
     "metadata": {
      "image/png": {
       "height": 319,
       "width": 355
      }
     },
     "output_type": "display_data"
    }
   ],
   "source": [
    "\"\"\"\n",
    "DON'T MODIFY ANYTHING IN THIS CELL\n",
    "\"\"\"\n",
    "%matplotlib inline\n",
    "%config InlineBackend.figure_format = 'retina'\n",
    "\n",
    "import tensorflow as tf\n",
    "import pickle\n",
    "import helper\n",
    "import random\n",
    "\n",
    "# Set batch size if not already set\n",
    "try:\n",
    "    if batch_size:\n",
    "        pass\n",
    "except NameError:\n",
    "    batch_size = 64\n",
    "\n",
    "save_model_path = './image_classification'\n",
    "n_samples = 4\n",
    "top_n_predictions = 3\n",
    "\n",
    "def test_model():\n",
    "    \"\"\"\n",
    "    Test the saved model against the test dataset\n",
    "    \"\"\"\n",
    "\n",
    "    test_features, test_labels = pickle.load(open('preprocess_training.p', mode='rb'))\n",
    "    loaded_graph = tf.Graph()\n",
    "\n",
    "    with tf.Session(graph=loaded_graph) as sess:\n",
    "        # Load model\n",
    "        loader = tf.train.import_meta_graph(save_model_path + '.meta')\n",
    "        loader.restore(sess, save_model_path)\n",
    "\n",
    "        # Get Tensors from loaded model\n",
    "        loaded_x = loaded_graph.get_tensor_by_name('x:0')\n",
    "        loaded_y = loaded_graph.get_tensor_by_name('y:0')\n",
    "        loaded_keep_prob = loaded_graph.get_tensor_by_name('keep_prob:0')\n",
    "        loaded_logits = loaded_graph.get_tensor_by_name('logits:0')\n",
    "        loaded_acc = loaded_graph.get_tensor_by_name('accuracy:0')\n",
    "        \n",
    "        # Get accuracy in batches for memory limitations\n",
    "        test_batch_acc_total = 0\n",
    "        test_batch_count = 0\n",
    "        \n",
    "        for train_feature_batch, train_label_batch in helper.batch_features_labels(test_features, test_labels, batch_size):\n",
    "            test_batch_acc_total += sess.run(\n",
    "                loaded_acc,\n",
    "                feed_dict={loaded_x: train_feature_batch, loaded_y: train_label_batch, loaded_keep_prob: 1.0})\n",
    "            test_batch_count += 1\n",
    "\n",
    "        print('Testing Accuracy: {}\\n'.format(test_batch_acc_total/test_batch_count))\n",
    "\n",
    "        # Print Random Samples\n",
    "        random_test_features, random_test_labels = tuple(zip(*random.sample(list(zip(test_features, test_labels)), n_samples)))\n",
    "        random_test_predictions = sess.run(\n",
    "            tf.nn.top_k(tf.nn.softmax(loaded_logits), top_n_predictions),\n",
    "            feed_dict={loaded_x: random_test_features, loaded_y: random_test_labels, loaded_keep_prob: 1.0})\n",
    "        helper.display_image_predictions(random_test_features, random_test_labels, random_test_predictions)\n",
    "\n",
    "\n",
    "test_model()"
   ]
  },
  {
   "cell_type": "markdown",
   "metadata": {
    "deletable": true,
    "editable": true
   },
   "source": [
    "## Why 50-80% Accuracy?\n",
    "You might be wondering why you can't get an accuracy any higher. First things first, 50% isn't bad for a simple CNN.  Pure guessing would get you 10% accuracy. However, you might notice people are getting scores [well above 80%](http://rodrigob.github.io/are_we_there_yet/build/classification_datasets_results.html#43494641522d3130).  That's because we haven't taught you all there is to know about neural networks. We still need to cover a few more techniques.\n",
    "## Submitting This Project\n",
    "When submitting this project, make sure to run all the cells before saving the notebook.  Save the notebook file as \"dlnd_image_classification.ipynb\" and save it as a HTML file under \"File\" -> \"Download as\".  Include the \"helper.py\" and \"problem_unittests.py\" files in your submission."
   ]
  },
  {
   "cell_type": "markdown",
   "metadata": {
    "deletable": true,
    "editable": true
   },
   "source": []
  },
  {
   "cell_type": "code",
   "execution_count": null,
   "metadata": {
    "collapsed": true,
    "deletable": true,
    "editable": true
   },
   "outputs": [],
   "source": []
  }
 ],
 "metadata": {
  "kernelspec": {
   "display_name": "Python 3",
   "language": "python",
   "name": "python3"
  },
  "language_info": {
   "codemirror_mode": {
    "name": "ipython",
    "version": 3
   },
   "file_extension": ".py",
   "mimetype": "text/x-python",
   "name": "python",
   "nbconvert_exporter": "python",
   "pygments_lexer": "ipython3",
   "version": "3.5.2"
  },
  "widgets": {
   "state": {},
   "version": "1.1.2"
  }
 },
 "nbformat": 4,
 "nbformat_minor": 0
}
