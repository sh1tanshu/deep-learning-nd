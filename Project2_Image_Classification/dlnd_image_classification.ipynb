{
 "cells": [
  {
   "cell_type": "markdown",
   "metadata": {
    "collapsed": true,
    "deletable": true,
    "editable": true
   },
   "source": [
    "# Image Classification\n",
    "In this project, you'll classify images from the [CIFAR-10 dataset](https://www.cs.toronto.edu/~kriz/cifar.html).  The dataset consists of airplanes, dogs, cats, and other objects. You'll preprocess the images, then train a convolutional neural network on all the samples. The images need to be normalized and the labels need to be one-hot encoded.  You'll get to apply what you learned and build a convolutional, max pooling, dropout, and fully connected layers.  At the end, you'll get to see your neural network's predictions on the sample images.\n",
    "## Get the Data\n",
    "Run the following cell to download the [CIFAR-10 dataset for python](https://www.cs.toronto.edu/~kriz/cifar-10-python.tar.gz)."
   ]
  },
  {
   "cell_type": "code",
   "execution_count": 1,
   "metadata": {
    "collapsed": false,
    "deletable": true,
    "editable": true
   },
   "outputs": [
    {
     "name": "stderr",
     "output_type": "stream",
     "text": [
      "CIFAR-10 Dataset: 171MB [00:44, 3.86MB/s]                               \n"
     ]
    },
    {
     "name": "stdout",
     "output_type": "stream",
     "text": [
      "All files found!\n"
     ]
    }
   ],
   "source": [
    "\"\"\"\n",
    "DON'T MODIFY ANYTHING IN THIS CELL THAT IS BELOW THIS LINE\n",
    "\"\"\"\n",
    "from urllib.request import urlretrieve\n",
    "from os.path import isfile, isdir\n",
    "from tqdm import tqdm\n",
    "import problem_unittests as tests\n",
    "import tarfile\n",
    "\n",
    "cifar10_dataset_folder_path = 'cifar-10-batches-py'\n",
    "\n",
    "class DLProgress(tqdm):\n",
    "    last_block = 0\n",
    "\n",
    "    def hook(self, block_num=1, block_size=1, total_size=None):\n",
    "        self.total = total_size\n",
    "        self.update((block_num - self.last_block) * block_size)\n",
    "        self.last_block = block_num\n",
    "\n",
    "if not isfile('cifar-10-python.tar.gz'):\n",
    "    with DLProgress(unit='B', unit_scale=True, miniters=1, desc='CIFAR-10 Dataset') as pbar:\n",
    "        urlretrieve(\n",
    "            'https://www.cs.toronto.edu/~kriz/cifar-10-python.tar.gz',\n",
    "            'cifar-10-python.tar.gz',\n",
    "            pbar.hook)\n",
    "\n",
    "if not isdir(cifar10_dataset_folder_path):\n",
    "    with tarfile.open('cifar-10-python.tar.gz') as tar:\n",
    "        tar.extractall()\n",
    "        tar.close()\n",
    "\n",
    "\n",
    "tests.test_folder_path(cifar10_dataset_folder_path)"
   ]
  },
  {
   "cell_type": "markdown",
   "metadata": {
    "deletable": true,
    "editable": true
   },
   "source": [
    "## Explore the Data\n",
    "The dataset is broken into batches to prevent your machine from running out of memory.  The CIFAR-10 dataset consists of 5 batches, named `data_batch_1`, `data_batch_2`, etc.. Each batch contains the labels and images that are one of the following:\n",
    "* airplane\n",
    "* automobile\n",
    "* bird\n",
    "* cat\n",
    "* deer\n",
    "* dog\n",
    "* frog\n",
    "* horse\n",
    "* ship\n",
    "* truck\n",
    "\n",
    "Understanding a dataset is part of making predictions on the data.  Play around with the code cell below by changing the `batch_id` and `sample_id`. The `batch_id` is the id for a batch (1-5). The `sample_id` is the id for a image and label pair in the batch.\n",
    "\n",
    "Ask yourself \"What are all possible labels?\", \"What is the range of values for the image data?\", \"Are the labels in order or random?\".  Answers to questions like these will help you preprocess the data and end up with better predictions."
   ]
  },
  {
   "cell_type": "code",
   "execution_count": 3,
   "metadata": {
    "collapsed": false,
    "deletable": true,
    "editable": true
   },
   "outputs": [
    {
     "name": "stdout",
     "output_type": "stream",
     "text": [
      "\n",
      "Stats of batch 1:\n",
      "Samples: 10000\n",
      "Label Counts: {0: 1005, 1: 974, 2: 1032, 3: 1016, 4: 999, 5: 937, 6: 1030, 7: 1001, 8: 1025, 9: 981}\n",
      "First 20 Labels: [6, 9, 9, 4, 1, 1, 2, 7, 8, 3, 4, 7, 7, 2, 9, 9, 9, 3, 2, 6]\n",
      "\n",
      "Example of Image 5:\n",
      "Image - Min Value: 0 Max Value: 252\n",
      "Image - Shape: (32, 32, 3)\n",
      "Label - Label Id: 1 Name: automobile\n"
     ]
    },
    {
     "data": {
      "image/png": "[encoded data removed]",
      "text/plain": [
       "<matplotlib.figure.Figure at 0x7ff0c8a63390>"
      ]
     },
     "metadata": {
      "image/png": {
       "height": 250,
       "width": 253
      }
     },
     "output_type": "display_data"
    }
   ],
   "source": [
    "%matplotlib inline\n",
    "%config InlineBackend.figure_format = 'retina'\n",
    "\n",
    "import helper\n",
    "import numpy as np\n",
    "\n",
    "# Explore the dataset\n",
    "batch_id = 1\n",
    "sample_id = 5\n",
    "helper.display_stats(cifar10_dataset_folder_path, batch_id, sample_id)"
   ]
  },
  {
   "cell_type": "markdown",
   "metadata": {
    "deletable": true,
    "editable": true
   },
   "source": [
    "## Implement Preprocess Functions\n",
    "### Normalize\n",
    "In the cell below, implement the `normalize` function to take in image data, `x`, and return it as a normalized Numpy array. The values should be in the range of 0 to 1, inclusive.  The return object should be the same shape as `x`."
   ]
  },
  {
   "cell_type": "code",
   "execution_count": 4,
   "metadata": {
    "collapsed": false,
    "deletable": true,
    "editable": true
   },
   "outputs": [
    {
     "name": "stdout",
     "output_type": "stream",
     "text": [
      "Tests Passed\n"
     ]
    }
   ],
   "source": [
    "def normalize(x):\n",
    "    \"\"\"\n",
    "    Normalize a list of sample image data in the range of 0 to 1\n",
    "    : x: List of image data.  The image shape is (32, 32, 3)\n",
    "    : return: Numpy array of normalize data\n",
    "    \"\"\"\n",
    "    # TODO: Implement Function\n",
    "    return x/255\n",
    "\n",
    "\n",
    "\"\"\"\n",
    "DON'T MODIFY ANYTHING IN THIS CELL THAT IS BELOW THIS LINE\n",
    "\"\"\"\n",
    "tests.test_normalize(normalize)"
   ]
  },
  {
   "cell_type": "markdown",
   "metadata": {
    "deletable": true,
    "editable": true
   },
   "source": [
    "### One-hot encode\n",
    "Just like the previous code cell, you'll be implementing a function for preprocessing.  This time, you'll implement the `one_hot_encode` function. The input, `x`, are a list of labels.  Implement the function to return the list of labels as One-Hot encoded Numpy array.  The possible values for labels are 0 to 9. The one-hot encoding function should return the same encoding for each value between each call to `one_hot_encode`.  Make sure to save the map of encodings outside the function.\n",
    "\n",
    "Hint: Don't reinvent the wheel."
   ]
  },
  {
   "cell_type": "code",
   "execution_count": 5,
   "metadata": {
    "collapsed": false,
    "deletable": true,
    "editable": true
   },
   "outputs": [
    {
     "name": "stdout",
     "output_type": "stream",
     "text": [
      "Tests Passed\n"
     ]
    }
   ],
   "source": [
    "def one_hot_encode(x):\n",
    "    \"\"\"\n",
    "    One hot encode a list of sample labels. Return a one-hot encoded vector for each label.\n",
    "    : x: List of sample Labels\n",
    "    : return: Numpy array of one-hot encoded labels\n",
    "    \"\"\"\n",
    "    # TODO: Implement Function\n",
    "    arr = []\n",
    "    for i in x:\n",
    "        a = []\n",
    "        for k in range(10):\n",
    "            a.append(1 if k==i else 0)\n",
    "        arr.append(a)\n",
    "    return np.array(arr)\n",
    "\n",
    "\n",
    "\"\"\"\n",
    "DON'T MODIFY ANYTHING IN THIS CELL THAT IS BELOW THIS LINE\n",
    "\"\"\"\n",
    "tests.test_one_hot_encode(one_hot_encode)"
   ]
  },
  {
   "cell_type": "markdown",
   "metadata": {
    "deletable": true,
    "editable": true
   },
   "source": [
    "### Randomize Data\n",
    "As you saw from exploring the data above, the order of the samples are randomized.  It doesn't hurt to randomize it again, but you don't need to for this dataset."
   ]
  },
  {
   "cell_type": "markdown",
   "metadata": {
    "deletable": true,
    "editable": true
   },
   "source": [
    "## Preprocess all the data and save it\n",
    "Running the code cell below will preprocess all the CIFAR-10 data and save it to file. The code below also uses 10% of the training data for validation."
   ]
  },
  {
   "cell_type": "code",
   "execution_count": 7,
   "metadata": {
    "collapsed": false,
    "deletable": true,
    "editable": true
   },
   "outputs": [
    {
     "name": "stdout",
     "output_type": "stream",
     "text": [
      "Done\n"
     ]
    }
   ],
   "source": [
    "\"\"\"\n",
    "DON'T MODIFY ANYTHING IN THIS CELL\n",
    "\"\"\"\n",
    "# Preprocess Training, Validation, and Testing Data\n",
    "helper.preprocess_and_save_data(cifar10_dataset_folder_path, normalize, one_hot_encode)\n",
    "print(\"Done\")"
   ]
  },
  {
   "cell_type": "markdown",
   "metadata": {
    "deletable": true,
    "editable": true
   },
   "source": [
    "# Check Point\n",
    "This is your first checkpoint.  If you ever decide to come back to this notebook or have to restart the notebook, you can start from here.  The preprocessed data has been saved to disk."
   ]
  },
  {
   "cell_type": "code",
   "execution_count": 17,
   "metadata": {
    "collapsed": true,
    "deletable": true,
    "editable": true
   },
   "outputs": [],
   "source": [
    "\"\"\"\n",
    "DON'T MODIFY ANYTHING IN THIS CELL\n",
    "\"\"\"\n",
    "import pickle\n",
    "import problem_unittests as tests\n",
    "import helper\n",
    "\n",
    "# Load the Preprocessed Validation data\n",
    "valid_features, valid_labels = pickle.load(open('preprocess_validation.p', mode='rb'))"
   ]
  },
  {
   "cell_type": "markdown",
   "metadata": {
    "deletable": true,
    "editable": true
   },
   "source": [
    "## Build the network\n",
    "For the neural network, you'll build each layer into a function.  Most of the code you've seen has been outside of functions. To test your code more thoroughly, we require that you put each layer in a function.  This allows us to give you better feedback and test for simple mistakes using our unittests before you submit your project.\n",
    "\n",
    ">**Note:** If you're finding it hard to dedicate enough time for this course each week, we've provided a small shortcut to this part of the project. In the next couple of problems, you'll have the option to use classes from the [TensorFlow Layers](https://www.tensorflow.org/api_docs/python/tf/layers) or [TensorFlow Layers (contrib)](https://www.tensorflow.org/api_guides/python/contrib.layers) packages to build each layer, except the layers you build in the \"Convolutional and Max Pooling Layer\" section.  TF Layers is similar to Keras's and TFLearn's abstraction to layers, so it's easy to pickup.\n",
    "\n",
    ">However, if you would like to get the most out of this course, try to solve all the problems _without_ using anything from the TF Layers packages. You **can** still use classes from other packages that happen to have the same name as ones you find in TF Layers! For example, instead of using the TF Layers version of the `conv2d` class, [tf.layers.conv2d](https://www.tensorflow.org/api_docs/python/tf/layers/conv2d), you would want to use the TF Neural Network version of `conv2d`, [tf.nn.conv2d](https://www.tensorflow.org/api_docs/python/tf/nn/conv2d). \n",
    "\n",
    "Let's begin!\n",
    "\n",
    "### Input\n",
    "The neural network needs to read the image data, one-hot encoded labels, and dropout keep probability. Implement the following functions\n",
    "* Implement `neural_net_image_input`\n",
    " * Return a [TF Placeholder](https://www.tensorflow.org/api_docs/python/tf/placeholder)\n",
    " * Set the shape using `image_shape` with batch size set to `None`.\n",
    " * Name the TensorFlow placeholder \"x\" using the TensorFlow `name` parameter in the [TF Placeholder](https://www.tensorflow.org/api_docs/python/tf/placeholder).\n",
    "* Implement `neural_net_label_input`\n",
    " * Return a [TF Placeholder](https://www.tensorflow.org/api_docs/python/tf/placeholder)\n",
    " * Set the shape using `n_classes` with batch size set to `None`.\n",
    " * Name the TensorFlow placeholder \"y\" using the TensorFlow `name` parameter in the [TF Placeholder](https://www.tensorflow.org/api_docs/python/tf/placeholder).\n",
    "* Implement `neural_net_keep_prob_input`\n",
    " * Return a [TF Placeholder](https://www.tensorflow.org/api_docs/python/tf/placeholder) for dropout keep probability.\n",
    " * Name the TensorFlow placeholder \"keep_prob\" using the TensorFlow `name` parameter in the [TF Placeholder](https://www.tensorflow.org/api_docs/python/tf/placeholder).\n",
    "\n",
    "These names will be used at the end of the project to load your saved model.\n",
    "\n",
    "Note: `None` for shapes in TensorFlow allow for a dynamic size."
   ]
  },
  {
   "cell_type": "code",
   "execution_count": 18,
   "metadata": {
    "collapsed": false,
    "deletable": true,
    "editable": true
   },
   "outputs": [
    {
     "name": "stdout",
     "output_type": "stream",
     "text": [
      "Image Input Tests Passed.\n",
      "Label Input Tests Passed.\n",
      "Keep Prob Tests Passed.\n"
     ]
    }
   ],
   "source": [
    "import tensorflow as tf\n",
    "\n",
    "def neural_net_image_input(image_shape):\n",
    "    \"\"\"\n",
    "    Return a Tensor for a bach of image input\n",
    "    : image_shape: Shape of the images\n",
    "    : return: Tensor for image input.\n",
    "    \"\"\"\n",
    "    # TODO: Implement Function\n",
    "    \n",
    "    return tf.placeholder(tf.float32, [None, image_shape[0],image_shape[1],image_shape[2]], name = 'x')\n",
    "\n",
    "\n",
    "def neural_net_label_input(n_classes):\n",
    "    \"\"\"\n",
    "    Return a Tensor for a batch of label input\n",
    "    : n_classes: Number of classes\n",
    "    : return: Tensor for label input.\n",
    "    \"\"\"\n",
    "    # TODO: Implement Function\n",
    "    return tf.placeholder(tf.float32, [None, n_classes], name = 'y')\n",
    "\n",
    "\n",
    "def neural_net_keep_prob_input():\n",
    "    \"\"\"\n",
    "    Return a Tensor for keep probability\n",
    "    : return: Tensor for keep probability.\n",
    "    \"\"\"\n",
    "    # TODO: Implement Function\n",
    "    return tf.placeholder(tf.float32, name = 'keep_prob')\n",
    "\n",
    "\n",
    "\"\"\"\n",
    "DON'T MODIFY ANYTHING IN THIS CELL THAT IS BELOW THIS LINE\n",
    "\"\"\"\n",
    "tf.reset_default_graph()\n",
    "tests.test_nn_image_inputs(neural_net_image_input)\n",
    "tests.test_nn_label_inputs(neural_net_label_input)\n",
    "tests.test_nn_keep_prob_inputs(neural_net_keep_prob_input)"
   ]
  },
  {
   "cell_type": "markdown",
   "metadata": {
    "deletable": true,
    "editable": true
   },
   "source": [
    "### Convolution and Max Pooling Layer\n",
    "Convolution layers have a lot of success with images. For this code cell, you should implement the function `conv2d_maxpool` to apply convolution then max pooling:\n",
    "* Create the weight and bias using `conv_ksize`, `conv_num_outputs` and the shape of `x_tensor`.\n",
    "* Apply a convolution to `x_tensor` using weight and `conv_strides`.\n",
    " * We recommend you use same padding, but you're welcome to use any padding.\n",
    "* Add bias\n",
    "* Add a nonlinear activation to the convolution.\n",
    "* Apply Max Pooling using `pool_ksize` and `pool_strides`.\n",
    " * We recommend you use same padding, but you're welcome to use any padding.\n",
    "\n",
    "**Note:** You **can't** use [TensorFlow Layers](https://www.tensorflow.org/api_docs/python/tf/layers) or [TensorFlow Layers (contrib)](https://www.tensorflow.org/api_guides/python/contrib.layers) for **this** layer, but you can still use TensorFlow's [Neural Network](https://www.tensorflow.org/api_docs/python/tf/nn) package. You may still use the shortcut option for all the **other** layers."
   ]
  },
  {
   "cell_type": "code",
   "execution_count": 104,
   "metadata": {
    "collapsed": false,
    "deletable": true,
    "editable": true
   },
   "outputs": [
    {
     "name": "stdout",
     "output_type": "stream",
     "text": [
      "Tests Passed\n"
     ]
    }
   ],
   "source": [
    "def conv2d_maxpool(x_tensor, conv_num_outputs, conv_ksize, conv_strides, pool_ksize, pool_strides):\n",
    "    \"\"\"\n",
    "    Apply convolution then max pooling to x_tensor\n",
    "    :param x_tensor: TensorFlow Tensor\n",
    "    :param conv_num_outputs: Number of outputs for the convolutional layer\n",
    "    :param conv_ksize: kernal size 2-D Tuple for the convolutional layer\n",
    "    :param conv_strides: Stride 2-D Tuple for convolution\n",
    "    :param pool_ksize: kernal size 2-D Tuple for pool\n",
    "    :param pool_strides: Stride 2-D Tuple for pool\n",
    "    : return: A tensor that represents convolution and max pooling of x_tensor\n",
    "    \"\"\"\n",
    "    # TODO: Implement Function\n",
    "    filter_height = conv_ksize[0]\n",
    "    filter_width = conv_ksize[1]\n",
    "    input_depth = x_tensor.get_shape().as_list()[-1]\n",
    "    \n",
    "    weights = tf.Variable(tf.truncated_normal( [filter_height, filter_width,input_depth, conv_num_outputs],0,0.1))\n",
    "    biases = tf.Variable(tf.zeros(conv_num_outputs))\n",
    "    \n",
    "    stride_height = conv_strides[0]\n",
    "    stride_width = conv_strides[1]\n",
    "    padding = \"SAME\"\n",
    "    conv1 = tf.nn.conv2d(x_tensor, weights, [1, stride_height, stride_width,1 ],  padding)\n",
    "    conv1 = tf.nn.bias_add(conv1, biases)\n",
    "    \n",
    "    pool_height = pool_ksize[0]\n",
    "    pool_width = pool_ksize[1]\n",
    "    \n",
    "    pool_stride_height = pool_strides[0]\n",
    "    pool_stride_width = pool_strides[1]\n",
    "    \n",
    "    conv1 = tf.nn.relu(conv1)\n",
    "    conv1 = tf.nn.max_pool(conv1, ksize=[1, pool_height, pool_width, 1], \n",
    "                           strides=[1,pool_stride_height,pool_stride_width , 1], padding=\"SAME\")\n",
    "    return conv1 \n",
    "\n",
    "\n",
    "\"\"\"\n",
    "DON'T MODIFY ANYTHING IN THIS CELL THAT IS BELOW THIS LINE\n",
    "\"\"\"\n",
    "tests.test_con_pool(conv2d_maxpool)"
   ]
  },
  {
   "cell_type": "markdown",
   "metadata": {
    "deletable": true,
    "editable": true
   },
   "source": [
    "### Flatten Layer\n",
    "Implement the `flatten` function to change the dimension of `x_tensor` from a 4-D tensor to a 2-D tensor.  The output should be the shape (*Batch Size*, *Flattened Image Size*). Shortcut option: you can use classes from the [TensorFlow Layers](https://www.tensorflow.org/api_docs/python/tf/layers) or [TensorFlow Layers (contrib)](https://www.tensorflow.org/api_guides/python/contrib.layers) packages for this layer. For more of a challenge, only use other TensorFlow packages."
   ]
  },
  {
   "cell_type": "code",
   "execution_count": 105,
   "metadata": {
    "collapsed": false,
    "deletable": true,
    "editable": true
   },
   "outputs": [
    {
     "name": "stdout",
     "output_type": "stream",
     "text": [
      "Tensor(\"Reshape_5:0\", shape=(?, 1800), dtype=float32)\n",
      "Tests Passed\n"
     ]
    }
   ],
   "source": [
    "def flatten(x_tensor):\n",
    "    \"\"\"\n",
    "    Flatten x_tensor to (Batch Size, Flattened Image Size)\n",
    "    : x_tensor: A tensor of size (Batch Size, ...), where ... are the image dimensions.\n",
    "    : return: A tensor of size (Batch Size, Flattened Image Size).\n",
    "    \"\"\"\n",
    "    # TODO: Implement Function\n",
    "    batch_size = x_tensor.get_shape().as_list()[0]\n",
    "    height = x_tensor.get_shape().as_list()[1]\n",
    "    width = x_tensor.get_shape().as_list()[2]\n",
    "    channel = x_tensor.get_shape().as_list()[3]\n",
    "       \n",
    "    new_shape = tf.reshape(x_tensor,[-1, height*width*channel])\n",
    "    print(new_shape)\n",
    "    return new_shape\n",
    "\n",
    "\n",
    "\"\"\"\n",
    "DON'T MODIFY ANYTHING IN THIS CELL THAT IS BELOW THIS LINE\n",
    "\"\"\"\n",
    "tests.test_flatten(flatten)"
   ]
  },
  {
   "cell_type": "markdown",
   "metadata": {
    "deletable": true,
    "editable": true
   },
   "source": [
    "### Fully-Connected Layer\n",
    "Implement the `fully_conn` function to apply a fully connected layer to `x_tensor` with the shape (*Batch Size*, *num_outputs*). Shortcut option: you can use classes from the [TensorFlow Layers](https://www.tensorflow.org/api_docs/python/tf/layers) or [TensorFlow Layers (contrib)](https://www.tensorflow.org/api_guides/python/contrib.layers) packages for this layer. For more of a challenge, only use other TensorFlow packages."
   ]
  },
  {
   "cell_type": "code",
   "execution_count": 106,
   "metadata": {
    "collapsed": false,
    "deletable": true,
    "editable": true
   },
   "outputs": [
    {
     "name": "stdout",
     "output_type": "stream",
     "text": [
      "Tensor(\"Placeholder_4:0\", shape=(?, 128), dtype=float32)\n",
      "Tests Passed\n"
     ]
    }
   ],
   "source": [
    "def fully_conn(x_tensor, num_outputs):\n",
    "    \"\"\"\n",
    "    Apply a fully connected layer to x_tensor using weight and bias\n",
    "    : x_tensor: A 2-D tensor where the first dimension is batch size.\n",
    "    : num_outputs: The number of output that the new tensor should be.\n",
    "    : return: A 2-D tensor where the second dimension is num_outputs.\n",
    "    \"\"\"\n",
    "    # TODO: Implement Function\n",
    "    print(x_tensor)\n",
    "    input_depth = x_tensor.get_shape().as_list()[-1]\n",
    "    \n",
    "    weights = tf.Variable(tf.truncated_normal( [input_depth, num_outputs],0,0.1 ))\n",
    "    biases = tf.Variable(tf.zeros(num_outputs))\n",
    "    \n",
    "    fc1 = tf.add(tf.matmul(x_tensor, weights), biases)\n",
    "    fc2 = tf.nn.relu(fc1)\n",
    "    \n",
    "    return fc2\n",
    "\n",
    "\n",
    "\"\"\"\n",
    "DON'T MODIFY ANYTHING IN THIS CELL THAT IS BELOW THIS LINE\n",
    "\"\"\"\n",
    "tests.test_fully_conn(fully_conn)"
   ]
  },
  {
   "cell_type": "markdown",
   "metadata": {
    "deletable": true,
    "editable": true
   },
   "source": [
    "### Output Layer\n",
    "Implement the `output` function to apply a fully connected layer to `x_tensor` with the shape (*Batch Size*, *num_outputs*). Shortcut option: you can use classes from the [TensorFlow Layers](https://www.tensorflow.org/api_docs/python/tf/layers) or [TensorFlow Layers (contrib)](https://www.tensorflow.org/api_guides/python/contrib.layers) packages for this layer. For more of a challenge, only use other TensorFlow packages.\n",
    "\n",
    "**Note:** Activation, softmax, or cross entropy should **not** be applied to this."
   ]
  },
  {
   "cell_type": "code",
   "execution_count": 107,
   "metadata": {
    "collapsed": false,
    "deletable": true,
    "editable": true
   },
   "outputs": [
    {
     "name": "stdout",
     "output_type": "stream",
     "text": [
      "Tests Passed\n"
     ]
    }
   ],
   "source": [
    "def output(x_tensor, num_outputs):\n",
    "    \"\"\"\n",
    "    Apply a output layer to x_tensor using weight and bias\n",
    "    : x_tensor: A 2-D tensor where the first dimension is batch size.\n",
    "    : num_outputs: The number of output that the new tensor should be.\n",
    "    : return: A 2-D tensor where the second dimension is num_outputs.\n",
    "    \"\"\"\n",
    "    # TODO: Implement Function\n",
    "    input_depth = x_tensor.get_shape().as_list()[-1]\n",
    "    \n",
    "    weights = tf.Variable(tf.truncated_normal( [input_depth, num_outputs],0,0.1))\n",
    "    biases = tf.Variable(tf.zeros(num_outputs))\n",
    "    \n",
    "    fc1 = tf.add(tf.matmul(x_tensor, weights), biases)\n",
    "    \n",
    "    return fc1\n",
    "\n",
    "\n",
    "\"\"\"\n",
    "DON'T MODIFY ANYTHING IN THIS CELL THAT IS BELOW THIS LINE\n",
    "\"\"\"\n",
    "tests.test_output(output)"
   ]
  },
  {
   "cell_type": "markdown",
   "metadata": {
    "deletable": true,
    "editable": true
   },
   "source": [
    "### Create Convolutional Model\n",
    "Implement the function `conv_net` to create a convolutional neural network model. The function takes in a batch of images, `x`, and outputs logits.  Use the layers you created above to create this model:\n",
    "\n",
    "* Apply 1, 2, or 3 Convolution and Max Pool layers\n",
    "* Apply a Flatten Layer\n",
    "* Apply 1, 2, or 3 Fully Connected Layers\n",
    "* Apply an Output Layer\n",
    "* Return the output\n",
    "* Apply [TensorFlow's Dropout](https://www.tensorflow.org/api_docs/python/tf/nn/dropout) to one or more layers in the model using `keep_prob`. "
   ]
  },
  {
   "cell_type": "code",
   "execution_count": 163,
   "metadata": {
    "collapsed": false,
    "deletable": true,
    "editable": true
   },
   "outputs": [
    {
     "name": "stdout",
     "output_type": "stream",
     "text": [
      "Tensor(\"Reshape:0\", shape=(?, 20480), dtype=float32)\n",
      "Tensor(\"dropout_1/mul:0\", shape=(?, 20480), dtype=float32)\n",
      "Tensor(\"Reshape_4:0\", shape=(?, 20480), dtype=float32)\n",
      "Tensor(\"dropout_3/mul:0\", shape=(?, 20480), dtype=float32)\n",
      "Neural Network Built!\n"
     ]
    }
   ],
   "source": [
    "def conv_net(x, keep_prob):\n",
    "    \"\"\"\n",
    "    Create a convolutional neural network model\n",
    "    : x: Placeholder tensor that holds image data.\n",
    "    : keep_prob: Placeholder tensor that hold dropout keep probability.\n",
    "    : return: Tensor that represents logits\n",
    "    \"\"\"\n",
    "    # TODO: Apply 1, 2, or 3 Convolution and Max Pool layers\n",
    "    #    Play around with different number of outputs, kernel size and stride\n",
    "    # Function Definition from Above:\n",
    "    #    conv2d_maxpool(x_tensor, conv_num_outputs, conv_ksize, conv_strides, pool_ksize, pool_strides)\n",
    "    #model = conv2d_maxpool(x, conv_num_outputs=60, conv_ksize=(4,4), conv_strides=(2,2), pool_ksize=(4,4), pool_strides=(2,2))\n",
    "    model = conv2d_maxpool(x, conv_num_outputs=20, conv_ksize=(2,2), conv_strides=(1,1), pool_ksize=(2,2), pool_strides=(1,1))\n",
    "    \n",
    "    model = tf.nn.dropout(model, keep_prob)\n",
    "    # TODO: Apply a Flatten Layer\n",
    "    # Function Definition from Above:\n",
    "    #   flatten(x_tensor)\n",
    "    model = flatten(model)\n",
    "    \n",
    "    model = tf.nn.dropout(model, keep_prob)\n",
    "\n",
    "    # TODO: Apply 1, 2, or 3 Fully Connected Layers\n",
    "    #    Play around with different number of outputs\n",
    "    # Function Definition from Above:\n",
    "    #   fully_conn(x_tensor, num_outputs)\n",
    "    model = fully_conn(model, num_outputs = 20)\n",
    "    \n",
    "    # TODO: Apply an Output Layer\n",
    "    #    Set this to the number of classes\n",
    "    # Function Definition from Above:\n",
    "    #   output(x_tensor, num_outputs)\n",
    "    model = output(model, num_outputs = 10)\n",
    "    \n",
    "    # TODO: return output\n",
    "    return model\n",
    "\n",
    "\n",
    "\"\"\"\n",
    "DON'T MODIFY ANYTHING IN THIS CELL THAT IS BELOW THIS LINE\n",
    "\"\"\"\n",
    "\n",
    "##############################\n",
    "## Build the Neural Network ##\n",
    "##############################\n",
    "\n",
    "# Remove previous weights, bias, inputs, etc..\n",
    "tf.reset_default_graph()\n",
    "\n",
    "# Inputs\n",
    "x = neural_net_image_input((32, 32, 3))\n",
    "y = neural_net_label_input(10)\n",
    "keep_prob = neural_net_keep_prob_input()\n",
    "\n",
    "# Model\n",
    "logits = conv_net(x, keep_prob)\n",
    "\n",
    "# Name logits Tensor, so that is can be loaded from disk after training\n",
    "logits = tf.identity(logits, name='logits')\n",
    "\n",
    "# Loss and Optimizer\n",
    "cost = tf.reduce_mean(tf.nn.softmax_cross_entropy_with_logits(logits=logits, labels=y))\n",
    "optimizer = tf.train.AdamOptimizer().minimize(cost)\n",
    "\n",
    "# Accuracy\n",
    "correct_pred = tf.equal(tf.argmax(logits, 1), tf.argmax(y, 1))\n",
    "accuracy = tf.reduce_mean(tf.cast(correct_pred, tf.float32), name='accuracy')\n",
    "\n",
    "tests.test_conv_net(conv_net)"
   ]
  },
  {
   "cell_type": "code",
   "execution_count": null,
   "metadata": {
    "collapsed": true
   },
   "outputs": [],
   "source": []
  },
  {
   "cell_type": "markdown",
   "metadata": {
    "deletable": true,
    "editable": true
   },
   "source": [
    "## Train the Neural Network\n",
    "### Single Optimization\n",
    "Implement the function `train_neural_network` to do a single optimization.  The optimization should use `optimizer` to optimize in `session` with a `feed_dict` of the following:\n",
    "* `x` for image input\n",
    "* `y` for labels\n",
    "* `keep_prob` for keep probability for dropout\n",
    "\n",
    "This function will be called for each batch, so `tf.global_variables_initializer()` has already been called.\n",
    "\n",
    "Note: Nothing needs to be returned. This function is only optimizing the neural network."
   ]
  },
  {
   "cell_type": "code",
   "execution_count": 164,
   "metadata": {
    "collapsed": false,
    "deletable": true,
    "editable": true
   },
   "outputs": [
    {
     "name": "stdout",
     "output_type": "stream",
     "text": [
      "Tests Passed\n"
     ]
    }
   ],
   "source": [
    "def train_neural_network(session, optimizer, keep_probability, feature_batch, label_batch):\n",
    "    \"\"\"\n",
    "    Optimize the session on a batch of images and labels\n",
    "    : session: Current TensorFlow session\n",
    "    : optimizer: TensorFlow optimizer function\n",
    "    : keep_probability: keep probability\n",
    "    : feature_batch: Batch of Numpy image data\n",
    "    : label_batch: Batch of Numpy label data\n",
    "    \"\"\"\n",
    "    # TODO: Implement Function\n",
    "    session.run(optimizer, feed_dict= {x : feature_batch, y: label_batch, keep_prob : keep_probability})\n",
    "    pass\n",
    "\n",
    "\n",
    "\"\"\"\n",
    "DON'T MODIFY ANYTHING IN THIS CELL THAT IS BELOW THIS LINE\n",
    "\"\"\"\n",
    "tests.test_train_nn(train_neural_network)"
   ]
  },
  {
   "cell_type": "markdown",
   "metadata": {
    "deletable": true,
    "editable": true
   },
   "source": [
    "### Show Stats\n",
    "Implement the function `print_stats` to print loss and validation accuracy.  Use the global variables `valid_features` and `valid_labels` to calculate validation accuracy.  Use a keep probability of `1.0` to calculate the loss and validation accuracy."
   ]
  },
  {
   "cell_type": "code",
   "execution_count": 165,
   "metadata": {
    "collapsed": false,
    "deletable": true,
    "editable": true
   },
   "outputs": [],
   "source": [
    "def print_stats(session, feature_batch, label_batch, cost, accuracy):\n",
    "    \"\"\"\n",
    "    Print information about loss and validation accuracy\n",
    "    : session: Current TensorFlow session\n",
    "    : feature_batch: Batch of Numpy image data\n",
    "    : label_batch: Batch of Numpy label data\n",
    "    : cost: TensorFlow cost function\n",
    "    : accuracy: TensorFlow accuracy function\n",
    "    \"\"\"\n",
    "    # TODO: Implement Function\n",
    "    loss = session.run(cost, feed_dict={x:feature_batch, y:label_batch, keep_prob:1.0})\n",
    "    valid_accuracy = session.run(accuracy, feed_dict = {x: feature_batch,y: label_batch, keep_prob:1.0}) \n",
    "    print(\"Loss: \", loss, \"\\t\\tAccuracy: \", valid_accuracy)\n",
    "    pass\n"
   ]
  },
  {
   "cell_type": "markdown",
   "metadata": {
    "deletable": true,
    "editable": true
   },
   "source": [
    "### Hyperparameters\n",
    "Tune the following parameters:\n",
    "* Set `epochs` to the number of iterations until the network stops learning or start overfitting\n",
    "* Set `batch_size` to the highest number that your machine has memory for.  Most people set them to common sizes of memory:\n",
    " * 64\n",
    " * 128\n",
    " * 256\n",
    " * ...\n",
    "* Set `keep_probability` to the probability of keeping a node using dropout"
   ]
  },
  {
   "cell_type": "code",
   "execution_count": 181,
   "metadata": {
    "collapsed": true,
    "deletable": true,
    "editable": true
   },
   "outputs": [],
   "source": [
    "# TODO: Tune Parameters\n",
    "epochs = 25\n",
    "batch_size = 256\n",
    "keep_probability = 0.5"
   ]
  },
  {
   "cell_type": "markdown",
   "metadata": {
    "deletable": true,
    "editable": true
   },
   "source": [
    "### Train on a Single CIFAR-10 Batch\n",
    "Instead of training the neural network on all the CIFAR-10 batches of data, let's use a single batch. This should save time while you iterate on the model to get a better accuracy.  Once the final validation accuracy is 50% or greater, run the model on all the data in the next section."
   ]
  },
  {
   "cell_type": "code",
   "execution_count": 182,
   "metadata": {
    "collapsed": false
   },
   "outputs": [
    {
     "name": "stdout",
     "output_type": "stream",
     "text": [
      "Checking the Training on a Single Batch...\n",
      "Epoch  1, CIFAR-10 Batch 1:  Loss:  2.25545 \t\tAccuracy:  0.15\n",
      "Epoch  2, CIFAR-10 Batch 1:  Loss:  2.1474 \t\tAccuracy:  0.225\n",
      "Epoch  3, CIFAR-10 Batch 1:  Loss:  1.91926 \t\tAccuracy:  0.375\n",
      "Epoch  4, CIFAR-10 Batch 1:  Loss:  1.81169 \t\tAccuracy:  0.425\n",
      "Epoch  5, CIFAR-10 Batch 1:  Loss:  1.70894 \t\tAccuracy:  0.475\n",
      "Epoch  6, CIFAR-10 Batch 1:  Loss:  1.62477 \t\tAccuracy:  0.55\n",
      "Epoch  7, CIFAR-10 Batch 1:  Loss:  1.5362 \t\tAccuracy:  0.625\n",
      "Epoch  8, CIFAR-10 Batch 1:  Loss:  1.47087 \t\tAccuracy:  0.65\n",
      "Epoch  9, CIFAR-10 Batch 1:  Loss:  1.41047 \t\tAccuracy:  0.625\n",
      "Epoch 10, CIFAR-10 Batch 1:  Loss:  1.33725 \t\tAccuracy:  0.65\n",
      "Epoch 11, CIFAR-10 Batch 1:  Loss:  1.28501 \t\tAccuracy:  0.625\n",
      "Epoch 12, CIFAR-10 Batch 1:  Loss:  1.21951 \t\tAccuracy:  0.65\n",
      "Epoch 13, CIFAR-10 Batch 1:  Loss:  1.17069 \t\tAccuracy:  0.7\n",
      "Epoch 14, CIFAR-10 Batch 1:  Loss:  1.12999 \t\tAccuracy:  0.725\n",
      "Epoch 15, CIFAR-10 Batch 1:  Loss:  1.06541 \t\tAccuracy:  0.75\n",
      "Epoch 16, CIFAR-10 Batch 1:  Loss:  1.02841 \t\tAccuracy:  0.725\n",
      "Epoch 17, CIFAR-10 Batch 1:  Loss:  0.986327 \t\tAccuracy:  0.75\n",
      "Epoch 18, CIFAR-10 Batch 1:  Loss:  0.952997 \t\tAccuracy:  0.75\n",
      "Epoch 19, CIFAR-10 Batch 1:  Loss:  0.902946 \t\tAccuracy:  0.775\n",
      "Epoch 20, CIFAR-10 Batch 1:  Loss:  0.879494 \t\tAccuracy:  0.8\n",
      "Epoch 21, CIFAR-10 Batch 1:  Loss:  0.835039 \t\tAccuracy:  0.8\n",
      "Epoch 22, CIFAR-10 Batch 1:  Loss:  0.793406 \t\tAccuracy:  0.825\n",
      "Epoch 23, CIFAR-10 Batch 1:  Loss:  0.75633 \t\tAccuracy:  0.825\n",
      "Epoch 24, CIFAR-10 Batch 1:  Loss:  0.742339 \t\tAccuracy:  0.825\n",
      "Epoch 25, CIFAR-10 Batch 1:  Loss:  0.709699 \t\tAccuracy:  0.825\n"
     ]
    }
   ],
   "source": [
    "\"\"\"\n",
    "DON'T MODIFY ANYTHING IN THIS CELL\n",
    "\"\"\"\n",
    "print('Checking the Training on a Single Batch...')\n",
    "with tf.Session() as sess:\n",
    "    # Initializing the variables\n",
    "    sess.run(tf.global_variables_initializer())\n",
    "    \n",
    "    # Training cycle\n",
    "    for epoch in range(epochs):\n",
    "        batch_i = 1\n",
    "        for batch_features, batch_labels in helper.load_preprocess_training_batch(batch_i, batch_size):\n",
    "            train_neural_network(sess, optimizer, keep_probability, batch_features, batch_labels)\n",
    "        print('Epoch {:>2}, CIFAR-10 Batch {}:  '.format(epoch + 1, batch_i), end='')\n",
    "        print_stats(sess, batch_features, batch_labels, cost, accuracy)"
   ]
  },
  {
   "cell_type": "markdown",
   "metadata": {
    "deletable": true,
    "editable": true
   },
   "source": [
    "### Fully Train the Model\n",
    "Now that you got a good accuracy with a single CIFAR-10 batch, try it with all five batches."
   ]
  },
  {
   "cell_type": "code",
   "execution_count": 184,
   "metadata": {
    "collapsed": false,
    "deletable": true,
    "editable": true
   },
   "outputs": [
    {
     "name": "stdout",
     "output_type": "stream",
     "text": [
      "Training...\n",
      "Epoch  1, CIFAR-10 Batch 1:  Loss:  2.30223 \t\tAccuracy:  0.125\n",
      "Epoch  1, CIFAR-10 Batch 2:  Loss:  2.30328 \t\tAccuracy:  0.075\n",
      "Epoch  1, CIFAR-10 Batch 3:  Loss:  2.3013 \t\tAccuracy:  0.125\n",
      "Epoch  1, CIFAR-10 Batch 4:  Loss:  2.24337 \t\tAccuracy:  0.2\n",
      "Epoch  1, CIFAR-10 Batch 5:  Loss:  2.15755 \t\tAccuracy:  0.175\n",
      "Epoch  2, CIFAR-10 Batch 1:  Loss:  2.15265 \t\tAccuracy:  0.2\n",
      "Epoch  2, CIFAR-10 Batch 2:  Loss:  1.90913 \t\tAccuracy:  0.35\n",
      "Epoch  2, CIFAR-10 Batch 3:  Loss:  1.69522 \t\tAccuracy:  0.35\n",
      "Epoch  2, CIFAR-10 Batch 4:  Loss:  1.79076 \t\tAccuracy:  0.4\n",
      "Epoch  2, CIFAR-10 Batch 5:  Loss:  1.75253 \t\tAccuracy:  0.425\n",
      "Epoch  3, CIFAR-10 Batch 1:  Loss:  1.83246 \t\tAccuracy:  0.35\n",
      "Epoch  3, CIFAR-10 Batch 2:  Loss:  1.62026 \t\tAccuracy:  0.425\n",
      "Epoch  3, CIFAR-10 Batch 3:  Loss:  1.41592 \t\tAccuracy:  0.45\n",
      "Epoch  3, CIFAR-10 Batch 4:  Loss:  1.62601 \t\tAccuracy:  0.375\n",
      "Epoch  3, CIFAR-10 Batch 5:  Loss:  1.62094 \t\tAccuracy:  0.475\n",
      "Epoch  4, CIFAR-10 Batch 1:  Loss:  1.71957 \t\tAccuracy:  0.4\n",
      "Epoch  4, CIFAR-10 Batch 2:  Loss:  1.48216 \t\tAccuracy:  0.5\n",
      "Epoch  4, CIFAR-10 Batch 3:  Loss:  1.26255 \t\tAccuracy:  0.525\n",
      "Epoch  4, CIFAR-10 Batch 4:  Loss:  1.48875 \t\tAccuracy:  0.425\n",
      "Epoch  4, CIFAR-10 Batch 5:  Loss:  1.49727 \t\tAccuracy:  0.5\n",
      "Epoch  5, CIFAR-10 Batch 1:  Loss:  1.58127 \t\tAccuracy:  0.525\n",
      "Epoch  5, CIFAR-10 Batch 2:  Loss:  1.35602 \t\tAccuracy:  0.525\n",
      "Epoch  5, CIFAR-10 Batch 3:  Loss:  1.14078 \t\tAccuracy:  0.55\n",
      "Epoch  5, CIFAR-10 Batch 4:  Loss:  1.40275 \t\tAccuracy:  0.5\n",
      "Epoch  5, CIFAR-10 Batch 5:  Loss:  1.40295 \t\tAccuracy:  0.55\n",
      "Epoch  6, CIFAR-10 Batch 1:  Loss:  1.49843 \t\tAccuracy:  0.55\n",
      "Epoch  6, CIFAR-10 Batch 2:  Loss:  1.23072 \t\tAccuracy:  0.6\n",
      "Epoch  6, CIFAR-10 Batch 3:  Loss:  1.06229 \t\tAccuracy:  0.575\n",
      "Epoch  6, CIFAR-10 Batch 4:  Loss:  1.34528 \t\tAccuracy:  0.525\n",
      "Epoch  6, CIFAR-10 Batch 5:  Loss:  1.33969 \t\tAccuracy:  0.575\n",
      "Epoch  7, CIFAR-10 Batch 1:  Loss:  1.41904 \t\tAccuracy:  0.525\n",
      "Epoch  7, CIFAR-10 Batch 2:  Loss:  1.15352 \t\tAccuracy:  0.6\n",
      "Epoch  7, CIFAR-10 Batch 3:  Loss:  1.00235 \t\tAccuracy:  0.6\n",
      "Epoch  7, CIFAR-10 Batch 4:  Loss:  1.28291 \t\tAccuracy:  0.575\n",
      "Epoch  7, CIFAR-10 Batch 5:  Loss:  1.28676 \t\tAccuracy:  0.55\n",
      "Epoch  8, CIFAR-10 Batch 1:  Loss:  1.34732 \t\tAccuracy:  0.525\n",
      "Epoch  8, CIFAR-10 Batch 2:  Loss:  1.08644 \t\tAccuracy:  0.6\n",
      "Epoch  8, CIFAR-10 Batch 3:  Loss:  0.964446 \t\tAccuracy:  0.65\n",
      "Epoch  8, CIFAR-10 Batch 4:  Loss:  1.17827 \t\tAccuracy:  0.65\n",
      "Epoch  8, CIFAR-10 Batch 5:  Loss:  1.19769 \t\tAccuracy:  0.65\n",
      "Epoch  9, CIFAR-10 Batch 1:  Loss:  1.31082 \t\tAccuracy:  0.525\n",
      "Epoch  9, CIFAR-10 Batch 2:  Loss:  1.05135 \t\tAccuracy:  0.55\n",
      "Epoch  9, CIFAR-10 Batch 3:  Loss:  0.903983 \t\tAccuracy:  0.675\n",
      "Epoch  9, CIFAR-10 Batch 4:  Loss:  1.12143 \t\tAccuracy:  0.725\n",
      "Epoch  9, CIFAR-10 Batch 5:  Loss:  1.15635 \t\tAccuracy:  0.625\n",
      "Epoch 10, CIFAR-10 Batch 1:  Loss:  1.27701 \t\tAccuracy:  0.525\n",
      "Epoch 10, CIFAR-10 Batch 2:  Loss:  1.00433 \t\tAccuracy:  0.675\n",
      "Epoch 10, CIFAR-10 Batch 3:  Loss:  0.888632 \t\tAccuracy:  0.675\n",
      "Epoch 10, CIFAR-10 Batch 4:  Loss:  1.06816 \t\tAccuracy:  0.7\n",
      "Epoch 10, CIFAR-10 Batch 5:  Loss:  1.10989 \t\tAccuracy:  0.625\n",
      "Epoch 11, CIFAR-10 Batch 1:  Loss:  1.22751 \t\tAccuracy:  0.55\n",
      "Epoch 11, CIFAR-10 Batch 2:  Loss:  0.95837 \t\tAccuracy:  0.675\n",
      "Epoch 11, CIFAR-10 Batch 3:  Loss:  0.839384 \t\tAccuracy:  0.75\n",
      "Epoch 11, CIFAR-10 Batch 4:  Loss:  1.02744 \t\tAccuracy:  0.7\n",
      "Epoch 11, CIFAR-10 Batch 5:  Loss:  1.06429 \t\tAccuracy:  0.625\n",
      "Epoch 12, CIFAR-10 Batch 1:  Loss:  1.21394 \t\tAccuracy:  0.575\n",
      "Epoch 12, CIFAR-10 Batch 2:  Loss:  0.928247 \t\tAccuracy:  0.7\n",
      "Epoch 12, CIFAR-10 Batch 3:  Loss:  0.825723 \t\tAccuracy:  0.7\n",
      "Epoch 12, CIFAR-10 Batch 4:  Loss:  0.975273 \t\tAccuracy:  0.675\n",
      "Epoch 12, CIFAR-10 Batch 5:  Loss:  1.05159 \t\tAccuracy:  0.6\n",
      "Epoch 13, CIFAR-10 Batch 1:  Loss:  1.17677 \t\tAccuracy:  0.55\n",
      "Epoch 13, CIFAR-10 Batch 2:  Loss:  0.914822 \t\tAccuracy:  0.675\n",
      "Epoch 13, CIFAR-10 Batch 3:  Loss:  0.812456 \t\tAccuracy:  0.75\n",
      "Epoch 13, CIFAR-10 Batch 4:  Loss:  0.9498 \t\tAccuracy:  0.7\n",
      "Epoch 13, CIFAR-10 Batch 5:  Loss:  1.01736 \t\tAccuracy:  0.65\n",
      "Epoch 14, CIFAR-10 Batch 1:  Loss:  1.15669 \t\tAccuracy:  0.55\n",
      "Epoch 14, CIFAR-10 Batch 2:  Loss:  0.897093 \t\tAccuracy:  0.675\n",
      "Epoch 14, CIFAR-10 Batch 3:  Loss:  0.77817 \t\tAccuracy:  0.775\n",
      "Epoch 14, CIFAR-10 Batch 4:  Loss:  0.916932 \t\tAccuracy:  0.675\n",
      "Epoch 14, CIFAR-10 Batch 5:  Loss:  0.995727 \t\tAccuracy:  0.65\n",
      "Epoch 15, CIFAR-10 Batch 1:  Loss:  1.12023 \t\tAccuracy:  0.65\n",
      "Epoch 15, CIFAR-10 Batch 2:  Loss:  0.834397 \t\tAccuracy:  0.775\n",
      "Epoch 15, CIFAR-10 Batch 3:  Loss:  0.743781 \t\tAccuracy:  0.775\n",
      "Epoch 15, CIFAR-10 Batch 4:  Loss:  0.865999 \t\tAccuracy:  0.7\n",
      "Epoch 15, CIFAR-10 Batch 5:  Loss:  0.963602 \t\tAccuracy:  0.625\n",
      "Epoch 16, CIFAR-10 Batch 1:  Loss:  1.10278 \t\tAccuracy:  0.625\n",
      "Epoch 16, CIFAR-10 Batch 2:  Loss:  0.826999 \t\tAccuracy:  0.775\n",
      "Epoch 16, CIFAR-10 Batch 3:  Loss:  0.717746 \t\tAccuracy:  0.825\n",
      "Epoch 16, CIFAR-10 Batch 4:  Loss:  0.837648 \t\tAccuracy:  0.75\n",
      "Epoch 16, CIFAR-10 Batch 5:  Loss:  0.911263 \t\tAccuracy:  0.675\n",
      "Epoch 17, CIFAR-10 Batch 1:  Loss:  1.04553 \t\tAccuracy:  0.7\n",
      "Epoch 17, CIFAR-10 Batch 2:  Loss:  0.792002 \t\tAccuracy:  0.775\n",
      "Epoch 17, CIFAR-10 Batch 3:  Loss:  0.691224 \t\tAccuracy:  0.775\n",
      "Epoch 17, CIFAR-10 Batch 4:  Loss:  0.832377 \t\tAccuracy:  0.725\n",
      "Epoch 17, CIFAR-10 Batch 5:  Loss:  0.893198 \t\tAccuracy:  0.7\n",
      "Epoch 18, CIFAR-10 Batch 1:  Loss:  1.00851 \t\tAccuracy:  0.675\n",
      "Epoch 18, CIFAR-10 Batch 2:  Loss:  0.785417 \t\tAccuracy:  0.8\n",
      "Epoch 18, CIFAR-10 Batch 3:  Loss:  0.680794 \t\tAccuracy:  0.8\n",
      "Epoch 18, CIFAR-10 Batch 4:  Loss:  0.785463 \t\tAccuracy:  0.8\n",
      "Epoch 18, CIFAR-10 Batch 5:  Loss:  0.879203 \t\tAccuracy:  0.675\n",
      "Epoch 19, CIFAR-10 Batch 1:  Loss:  0.992338 \t\tAccuracy:  0.725\n",
      "Epoch 19, CIFAR-10 Batch 2:  Loss:  0.760305 \t\tAccuracy:  0.8\n",
      "Epoch 19, CIFAR-10 Batch 3:  Loss:  0.659647 \t\tAccuracy:  0.875\n",
      "Epoch 19, CIFAR-10 Batch 4:  Loss:  0.767643 \t\tAccuracy:  0.75\n",
      "Epoch 19, CIFAR-10 Batch 5:  Loss:  0.859401 \t\tAccuracy:  0.7\n",
      "Epoch 20, CIFAR-10 Batch 1:  Loss:  0.981662 \t\tAccuracy:  0.7\n",
      "Epoch 20, CIFAR-10 Batch 2:  Loss:  0.731751 \t\tAccuracy:  0.85\n",
      "Epoch 20, CIFAR-10 Batch 3:  Loss:  0.634774 \t\tAccuracy:  0.825\n",
      "Epoch 20, CIFAR-10 Batch 4:  Loss:  0.742082 \t\tAccuracy:  0.8\n",
      "Epoch 20, CIFAR-10 Batch 5:  Loss:  0.833642 \t\tAccuracy:  0.725\n",
      "Epoch 21, CIFAR-10 Batch 1:  Loss:  0.93982 \t\tAccuracy:  0.725\n",
      "Epoch 21, CIFAR-10 Batch 2:  Loss:  0.71835 \t\tAccuracy:  0.85\n",
      "Epoch 21, CIFAR-10 Batch 3:  Loss:  0.629327 \t\tAccuracy:  0.9\n",
      "Epoch 21, CIFAR-10 Batch 4:  Loss:  0.736511 \t\tAccuracy:  0.8\n",
      "Epoch 21, CIFAR-10 Batch 5:  Loss:  0.801512 \t\tAccuracy:  0.8\n",
      "Epoch 22, CIFAR-10 Batch 1:  Loss:  0.922217 \t\tAccuracy:  0.725\n",
      "Epoch 22, CIFAR-10 Batch 2:  Loss:  0.698324 \t\tAccuracy:  0.8\n",
      "Epoch 22, CIFAR-10 Batch 3:  Loss:  0.611403 \t\tAccuracy:  0.9\n",
      "Epoch 22, CIFAR-10 Batch 4:  Loss:  0.719374 \t\tAccuracy:  0.775\n",
      "Epoch 22, CIFAR-10 Batch 5:  Loss:  0.787588 \t\tAccuracy:  0.775\n",
      "Epoch 23, CIFAR-10 Batch 1:  Loss:  0.915311 \t\tAccuracy:  0.725\n",
      "Epoch 23, CIFAR-10 Batch 2:  Loss:  0.671925 \t\tAccuracy:  0.825\n",
      "Epoch 23, CIFAR-10 Batch 3:  Loss:  0.590016 \t\tAccuracy:  0.9\n",
      "Epoch 23, CIFAR-10 Batch 4:  Loss:  0.690498 \t\tAccuracy:  0.775\n",
      "Epoch 23, CIFAR-10 Batch 5:  Loss:  0.755012 \t\tAccuracy:  0.775\n",
      "Epoch 24, CIFAR-10 Batch 1:  Loss:  0.903465 \t\tAccuracy:  0.725\n",
      "Epoch 24, CIFAR-10 Batch 2:  Loss:  0.6724 \t\tAccuracy:  0.825\n",
      "Epoch 24, CIFAR-10 Batch 3:  Loss:  0.57594 \t\tAccuracy:  0.9\n",
      "Epoch 24, CIFAR-10 Batch 4:  Loss:  0.673904 \t\tAccuracy:  0.8\n",
      "Epoch 24, CIFAR-10 Batch 5:  Loss:  0.740762 \t\tAccuracy:  0.775\n",
      "Epoch 25, CIFAR-10 Batch 1:  Loss:  0.881409 \t\tAccuracy:  0.725\n",
      "Epoch 25, CIFAR-10 Batch 2:  Loss:  0.658431 \t\tAccuracy:  0.85\n",
      "Epoch 25, CIFAR-10 Batch 3:  Loss:  0.579244 \t\tAccuracy:  0.9\n",
      "Epoch 25, CIFAR-10 Batch 4:  Loss:  0.667561 \t\tAccuracy:  0.8\n",
      "Epoch 25, CIFAR-10 Batch 5:  Loss:  0.71873 \t\tAccuracy:  0.75\n"
     ]
    }
   ],
   "source": [
    "\"\"\"\n",
    "DON'T MODIFY ANYTHING IN THIS CELL\n",
    "\"\"\"\n",
    "save_model_path = './image_classification'\n",
    "\n",
    "print('Training...')\n",
    "with tf.Session() as sess:\n",
    "    # Initializing the variables\n",
    "    sess.run(tf.global_variables_initializer())\n",
    "    \n",
    "    # Training cycle\n",
    "    for epoch in range(epochs):\n",
    "        # Loop over all batches\n",
    "        n_batches = 5\n",
    "        for batch_i in range(1, n_batches + 1):\n",
    "            for batch_features, batch_labels in helper.load_preprocess_training_batch(batch_i, batch_size):\n",
    "                train_neural_network(sess, optimizer, keep_probability, batch_features, batch_labels)\n",
    "            print('Epoch {:>2}, CIFAR-10 Batch {}:  '.format(epoch + 1, batch_i), end='')\n",
    "            print_stats(sess, batch_features, batch_labels, cost, accuracy)\n",
    "            \n",
    "    # Save Model\n",
    "    saver = tf.train.Saver()\n",
    "    save_path = saver.save(sess, save_model_path)"
   ]
  },
  {
   "cell_type": "markdown",
   "metadata": {
    "deletable": true,
    "editable": true
   },
   "source": [
    "# Checkpoint\n",
    "The model has been saved to disk.\n",
    "## Test Model\n",
    "Test your model against the test dataset.  This will be your final accuracy. You should have an accuracy greater than 50%. If you don't, keep tweaking the model architecture and parameters."
   ]
  },
  {
   "cell_type": "code",
   "execution_count": 195,
   "metadata": {
    "collapsed": false,
    "deletable": true,
    "editable": true
   },
   "outputs": [
    {
     "name": "stdout",
     "output_type": "stream",
     "text": [
      "Testing Accuracy: 0.6046875\n",
      "\n"
     ]
    },
    {
     "data": {
      "image/png": "[encoded data removed]",
      "text/plain": [
       "<matplotlib.figure.Figure at 0x7ff05954e860>"
      ]
     },
     "metadata": {
      "image/png": {
       "height": 319,
       "width": 355
      }
     },
     "output_type": "display_data"
    }
   ],
   "source": [
    "\"\"\"\n",
    "DON'T MODIFY ANYTHING IN THIS CELL\n",
    "\"\"\"\n",
    "%matplotlib inline\n",
    "%config InlineBackend.figure_format = 'retina'\n",
    "\n",
    "import tensorflow as tf\n",
    "import pickle\n",
    "import helper\n",
    "import random\n",
    "\n",
    "# Set batch size if not already set\n",
    "try:\n",
    "    if batch_size:\n",
    "        pass\n",
    "except NameError:\n",
    "    batch_size = 64\n",
    "\n",
    "save_model_path = './image_classification'\n",
    "n_samples = 4\n",
    "top_n_predictions = 3\n",
    "\n",
    "def test_model():\n",
    "    \"\"\"\n",
    "    Test the saved model against the test dataset\n",
    "    \"\"\"\n",
    "\n",
    "    test_features, test_labels = pickle.load(open('preprocess_training.p', mode='rb'))\n",
    "    loaded_graph = tf.Graph()\n",
    "\n",
    "    with tf.Session(graph=loaded_graph) as sess:\n",
    "        # Load model\n",
    "        loader = tf.train.import_meta_graph(save_model_path + '.meta')\n",
    "        loader.restore(sess, save_model_path)\n",
    "\n",
    "        # Get Tensors from loaded model\n",
    "        loaded_x = loaded_graph.get_tensor_by_name('x:0')\n",
    "        loaded_y = loaded_graph.get_tensor_by_name('y:0')\n",
    "        loaded_keep_prob = loaded_graph.get_tensor_by_name('keep_prob:0')\n",
    "        loaded_logits = loaded_graph.get_tensor_by_name('logits:0')\n",
    "        loaded_acc = loaded_graph.get_tensor_by_name('accuracy:0')\n",
    "        \n",
    "        # Get accuracy in batches for memory limitations\n",
    "        test_batch_acc_total = 0\n",
    "        test_batch_count = 0\n",
    "        \n",
    "        for train_feature_batch, train_label_batch in helper.batch_features_labels(test_features, test_labels, batch_size):\n",
    "            test_batch_acc_total += sess.run(\n",
    "                loaded_acc,\n",
    "                feed_dict={loaded_x: train_feature_batch, loaded_y: train_label_batch, loaded_keep_prob: 1.0})\n",
    "            test_batch_count += 1\n",
    "\n",
    "        print('Testing Accuracy: {}\\n'.format(test_batch_acc_total/test_batch_count))\n",
    "\n",
    "        # Print Random Samples\n",
    "        random_test_features, random_test_labels = tuple(zip(*random.sample(list(zip(test_features, test_labels)), n_samples)))\n",
    "        random_test_predictions = sess.run(\n",
    "            tf.nn.top_k(tf.nn.softmax(loaded_logits), top_n_predictions),\n",
    "            feed_dict={loaded_x: random_test_features, loaded_y: random_test_labels, loaded_keep_prob: 1.0})\n",
    "        helper.display_image_predictions(random_test_features, random_test_labels, random_test_predictions)\n",
    "\n",
    "\n",
    "test_model()"
   ]
  },
  {
   "cell_type": "markdown",
   "metadata": {
    "deletable": true,
    "editable": true
   },
   "source": [
    "## Why 50-80% Accuracy?\n",
    "You might be wondering why you can't get an accuracy any higher. First things first, 50% isn't bad for a simple CNN.  Pure guessing would get you 10% accuracy. However, you might notice people are getting scores [well above 80%](http://rodrigob.github.io/are_we_there_yet/build/classification_datasets_results.html#43494641522d3130).  That's because we haven't taught you all there is to know about neural networks. We still need to cover a few more techniques.\n",
    "## Submitting This Project\n",
    "When submitting this project, make sure to run all the cells before saving the notebook.  Save the notebook file as \"dlnd_image_classification.ipynb\" and save it as a HTML file under \"File\" -> \"Download as\".  Include the \"helper.py\" and \"problem_unittests.py\" files in your submission."
   ]
  },
  {
   "cell_type": "markdown",
   "metadata": {},
   "source": []
  },
  {
   "cell_type": "code",
   "execution_count": null,
   "metadata": {
    "collapsed": true
   },
   "outputs": [],
   "source": []
  }
 ],
 "metadata": {
  "kernelspec": {
   "display_name": "Python 3",
   "language": "python",
   "name": "python3"
  },
  "language_info": {
   "codemirror_mode": {
    "name": "ipython",
    "version": 3
   },
   "file_extension": ".py",
   "mimetype": "text/x-python",
   "name": "python",
   "nbconvert_exporter": "python",
   "pygments_lexer": "ipython3",
   "version": "3.5.2"
  },
  "widgets": {
   "state": {},
   "version": "1.1.2"
  }
 },
 "nbformat": 4,
 "nbformat_minor": 0
}
